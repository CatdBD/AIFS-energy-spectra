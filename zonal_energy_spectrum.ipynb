{
 "cells": [
  {
   "cell_type": "code",
   "execution_count": 1,
   "id": "b81b02e3-8a35-4ad1-b1f5-2716891b4bdc",
   "metadata": {},
   "outputs": [],
   "source": [
    "# IMPORTS\n",
    "import os\n",
    "import sys\n",
    "import dataclasses\n",
    "import typing as t\n",
    "from datetime import datetime, timedelta\n",
    "\n",
    "import numpy as np\n",
    "import xarray as xr\n",
    "\n",
    "import matplotlib.pyplot as plt\n",
    "from matplotlib.ticker import LogLocator, NullFormatter, ScalarFormatter\n",
    "\n",
    "from IPython.display import clear_output\n",
    "from dask.diagnostics import ProgressBar\n",
    "from tqdm.notebook import tqdm\n",
    "\n",
    "# local clone of weatherbench2 found at : https://github.com/google-research/weatherbench2\n",
    "sys.path.append('/scratch/dx2/cl6824/weatherbench2')\n",
    "from weatherbench2 import schema\n",
    "from weatherbench2.derived_variables import ZonalEnergySpectrum"
   ]
  },
  {
   "cell_type": "code",
   "execution_count": 2,
   "id": "999dde4b-bb6e-4722-bccf-f04e34f930e8",
   "metadata": {},
   "outputs": [],
   "source": [
    "ProgressBar().register()"
   ]
  },
  {
   "cell_type": "markdown",
   "id": "46838d82-e2b8-49fb-83db-396cc918dbc3",
   "metadata": {
    "jp-MarkdownHeadingCollapsed": true
   },
   "source": [
    "### ERA5"
   ]
  },
  {
   "cell_type": "code",
   "execution_count": null,
   "id": "d8562168-ef11-4a93-8251-4bbd9564af11",
   "metadata": {},
   "outputs": [],
   "source": [
    "# Retrieve all files (3 fields, 12 months)\n",
    "u_path = os.path.join(\"/g/data/rt52/era5\", \"pressure-levels\", \"reanalysis\", \"u\", \"2024\")\n",
    "v_path = os.path.join(\"/g/data/rt52/era5\", \"pressure-levels\", \"reanalysis\", \"v\", \"2024\")\n",
    "w_path = os.path.join(\"/g/data/rt52/era5\", \"pressure-levels\", \"reanalysis\", \"w\", \"2024\")\n",
    "u_files = sorted([os.path.join(u_path, e) for e in os.listdir(u_path)])\n",
    "v_files = sorted([os.path.join(v_path, e) for e in os.listdir(v_path)])\n",
    "w_files = sorted([os.path.join(w_path, e) for e in os.listdir(w_path)])\n",
    "\n",
    "print(\"starting\")\n",
    "# Loop on all months\n",
    "for i in range(len(u_files)):\n",
    "    print(f\"making files n°{i+1}/12\")\n",
    "    def prep(ds):\n",
    "        # select the desired pressure levels\n",
    "        ds = ds.sel(level=[500, 200])\n",
    "        return ds\n",
    "    \n",
    "    # Use open_mfdataset with preprocess\n",
    "    ds = xr.open_mfdataset(\n",
    "        [u_files[i]]+[v_files[i]]+[w_files[i]],\n",
    "        combine='by_coords',\n",
    "        preprocess=prep,\n",
    "        chunks={}\n",
    "    )\n",
    "    print(\"dataset opened\")\n",
    "    # calculate kinetic energy\n",
    "    ds[\"wind_speed\"] = ds[\"u\"]**2 + ds[\"v\"]**2 + ds[\"w\"]**2\n",
    "    ds = ds.drop_vars([\"u\", \"v\", \"w\"])\n",
    "    print(\"kinetic energy retrieved\")\n",
    "    # store a file of kinetic energy per month\n",
    "    ds.to_netcdf(f\"/scratch/dx2/cl6824/Fourier/ERA5/tmp/times_{i:02d}.nc\")\n"
   ]
  },
  {
   "cell_type": "code",
   "execution_count": null,
   "id": "5b3306f9-29c6-4f29-af23-3f6eaf5f5941",
   "metadata": {},
   "outputs": [],
   "source": [
    "# Calculate spectra of each monthly file\n",
    "base_path = \"/scratch/dx2/cl6824/Fourier/ERA5/tmp\"\n",
    "files = os.listdir(base_path)\n",
    "files = sorted([os.path.join(base_path, efile) for efile in files if (efile.endswith(\".nc\") and efile.startswith(\"times\"))])\n",
    "\n",
    "for i, efile in enumerate(files):\n",
    "    print(f\"performing file n°{i}/12\")\n",
    "    ds = xr.open_dataset(efile)\n",
    "    for elevel in [200, 500]:\n",
    "        print(\"loading\")\n",
    "        eds = ds.sel(level=elevel)\n",
    "        eds = eds.load()\n",
    "        print(\"computing ZES\")\n",
    "        ZES = ZonalEnergySpectrum(\"wind_speed\")\n",
    "        res = ZES.compute(eds)\n",
    "        print(\"saving results\")\n",
    "        res.to_netcdf(f\"/scratch/dx2/cl6824/Fourier/ERA5/tmp/fourier_{elevel}hPa_{i:02d}.nc\")\n"
   ]
  },
  {
   "cell_type": "code",
   "execution_count": null,
   "id": "a9020c80-856b-4f91-aa33-4d6cf81c5fdb",
   "metadata": {},
   "outputs": [],
   "source": [
    "# Combine spectras in a final file over all year\n",
    "base_path = \"/scratch/dx2/cl6824/Fourier/ERA5/tmp\"\n",
    "ffiles = [efile for efile in os.listdir(base_path) if efile.startswith(\"fourier\")]\n",
    "for elevel in [200, 500]:\n",
    "    files_level = [os.path.join(base_path, efile) for efile in ffiles if efile.split(\"_\")[1] == str(elevel)+\"hPa\"]\n",
    "    ds_level = xr.open_mfdataset(files_level,\n",
    "            combine='by_coords',\n",
    "            chunks={}\n",
    "        )\n",
    "    ds_level = ds_level.mean(dim=\"time\")\n",
    "    ds_level.to_netcdf(f\"/scratch/dx2/cl6824/Fourier/ERA5/wind_speed_{elevel}hPa/{elevel}hPa_wind_speed_spectrum.nc\")"
   ]
  },
  {
   "cell_type": "markdown",
   "id": "be091c48-21a5-4c26-9dc2-b8abb5397db3",
   "metadata": {
    "jp-MarkdownHeadingCollapsed": true
   },
   "source": [
    "### AIFS"
   ]
  },
  {
   "cell_type": "code",
   "execution_count": 20,
   "id": "b4be1803-cf7f-4aad-9568-bbc31e2a3fa6",
   "metadata": {},
   "outputs": [
    {
     "name": "stdout",
     "output_type": "stream",
     "text": [
      "doing lead time 59/60\n",
      "[########################################] | 100% Completed | 187.88 s\n",
      "[########################################] | 100% Completed | 187.97 s\n",
      "[########################################] | 100% Completed | 57.88 s\n",
      "[########################################] | 100% Completed | 58.18 s\n"
     ]
    }
   ],
   "source": [
    "max_lead_time = 60\n",
    "base_path = \"/g/data/dx2/cl6824/ML/AIFS/outputs/postproc/v1/\"\n",
    "files = [os.path.join(base_path, e) for e in os.listdir(base_path)]\n",
    "lead_times = [0, 1, 2, 3, 4, 5] + list(range(38, max_lead_time))\n",
    "\n",
    "for lead_time_index in lead_times:\n",
    "    clear_output(wait=True)\n",
    "\n",
    "    print(f\"doing lead time {lead_time_index}/{max_lead_time}\")\n",
    "    def prep(ds):\n",
    "        # Select only the variables of interest\n",
    "        ds = ds[[\"u\", \"v\", \"w\"]]\n",
    "        # Select a specific lead time\n",
    "        ds = ds.isel(time=[lead_time_index])\n",
    "        # select the desired pressure level\n",
    "        ds = ds.sel(level=[500, 200])\n",
    "        # Compute wind speed from u and v components\n",
    "        ds[\"wind_speed\"] = ds[\"u\"]**2 + ds[\"v\"]**2 + ds[\"w\"]**2\n",
    "        # Drop the original wind components\n",
    "        ds = ds.drop_vars([\"u\", \"v\", \"w\"])\n",
    "        return ds\n",
    "\n",
    "    ds_lead_time = xr.open_mfdataset(\n",
    "        files,\n",
    "        combine='by_coords',\n",
    "        preprocess=prep,\n",
    "        chunks={}\n",
    "    )\n",
    "\n",
    "    for elevel in [500, 200]:\n",
    "        eds = ds_lead_time.sel(level=elevel)\n",
    "        eds = eds.load()\n",
    "        ZES = ZonalEnergySpectrum(\"wind_speed\")\n",
    "        res = ZES.compute(eds)\n",
    "        res = res.mean(dim=\"time\")\n",
    "\n",
    "        res.to_netcdf(f\"/scratch/dx2/cl6824/Fourier/AIFS/wind_speed_{elevel}hPa/{elevel}hPa_wind_speed_spectrum_leadtime_{(lead_time_index+1)*6:03d}h.nc\")"
   ]
  },
  {
   "cell_type": "markdown",
   "id": "d604aedf-9d5a-4680-94f9-84d6162fdd0b",
   "metadata": {},
   "source": [
    "### IFS"
   ]
  },
  {
   "cell_type": "code",
   "execution_count": null,
   "id": "9eb60b08-0609-404c-9f4d-e809edd1c26f",
   "metadata": {
    "scrolled": true
   },
   "outputs": [],
   "source": [
    "base_path = \"/g/data/dx2/cl6824/ML/IFS/\"\n",
    "files = sorted([os.path.join(base_path, el) for el in os.listdir(base_path) if el.endswith(\".grib\")])\n",
    "dates = [(datetime.strptime('20240101', '%Y%m%d') + timedelta(days=x*3, hours=12)).strftime('%Y%m%d%H') for x in range(122)]\n",
    "dates = np.array([np.datetime64(datetime.strptime(d, '%Y%m%d%H')) for d in dates])\n",
    "\n",
    "def prep(ds):\n",
    "    ds = ds.sel(time=ds.time.isin(dates))\n",
    "    ds[\"wind_speed\"] = ds[\"u\"]**2 + ds[\"v\"]**2 + ds[\"w\"]**2\n",
    "    ds = ds.drop_vars([\"u\", \"v\", \"w\"])\n",
    "    return ds\n",
    "\n",
    "ds = xr.open_mfdataset(\n",
    "    files,\n",
    "    combine='by_coords',\n",
    "    preprocess=prep,\n",
    "    chunks={},  # Attention : chunks={} charge tout en mémoire\n",
    "    decode_timedelta=True\n",
    ")\n",
    "for elevel in [500, 200]:\n",
    "    eds = ds.sel(isobaricInhPa=elevel)\n",
    "    eds = eds.load()\n",
    "    print(\"ds loaded\")\n",
    "    ZES = ZonalEnergySpectrum(\"wind_speed\")\n",
    "    res = ZES.compute(eds)\n",
    "    res = res.mean(dim=\"time\")\n",
    "    res = res.drop_vars([\"number\", \"step\"])\n",
    "    print(\"computation done, saving ...\")\n",
    "\n",
    "    res.to_netcdf(f\"/scratch/dx2/cl6824/Fourier/IFS/wind_speed_{elevel}hPa/{elevel}hPa_wind_speed_spectrum.nc\")\n",
    "    print(f\"level {elevel} done\")"
   ]
  },
  {
   "cell_type": "markdown",
   "id": "cf295b6b-53f5-4a37-ba28-996015b6dcfd",
   "metadata": {},
   "source": [
    "### IFS FC"
   ]
  },
  {
   "cell_type": "code",
   "execution_count": 8,
   "id": "7fa8af40-cdd7-4af7-ab42-373abfb1546c",
   "metadata": {},
   "outputs": [
    {
     "name": "stdout",
     "output_type": "stream",
     "text": [
      "doing lead time 39/40\n",
      "doing level 500\n",
      "[########################################] | 100% Completed | 533.75 s\n",
      "loaded\n",
      "saving\n"
     ]
    }
   ],
   "source": [
    "base_path = \"/g/data/dx2/cl6824/ML/IFS_FC/\"\n",
    "files = sorted([os.path.join(base_path, el) for el in os.listdir(base_path) if el.endswith(\".grib\")])\n",
    "dates = [(datetime.strptime('20240101', '%Y%m%d') + timedelta(days=x*3, hours=12)).strftime('%Y%m%d%H') for x in range(122)]\n",
    "dates = np.array([np.datetime64(datetime.strptime(d, '%Y%m%d%H')) for d in dates])\n",
    "\n",
    "max_lead_time = 40\n",
    "lead_times = list(range(0, max_lead_time))\n",
    "for lead_time_index in lead_times[1:]:\n",
    "    clear_output(wait=True)\n",
    "\n",
    "    print(f\"doing lead time {lead_time_index}/{max_lead_time}\")\n",
    "    def prep(ds):\n",
    "        # Select only the variables of interest\n",
    "        ds = ds[[\"u\", \"v\", \"w\"]]\n",
    "        # Select a specific lead time\n",
    "        ds = ds.isel(step=[lead_time_index])\n",
    "        # select the desired pressure level\n",
    "        ds = ds.sel(isobaricInhPa=[500, 200])\n",
    "        # Compute wind speed from u and v components\n",
    "        ds[\"wind_speed\"] = ds[\"u\"]**2 + ds[\"v\"]**2 + ds[\"w\"]**2\n",
    "        # Drop the original wind components\n",
    "        ds = ds.drop_vars([\"u\", \"v\", \"w\"])\n",
    "        return ds\n",
    "\n",
    "    ds = xr.open_mfdataset(\n",
    "        files,\n",
    "        combine='by_coords',\n",
    "        preprocess=prep,\n",
    "        chunks={},\n",
    "        backend_kwargs={\n",
    "            \"decode_timedelta\": True   # ou False selon ton cas\n",
    "        }\n",
    "    )\n",
    "\n",
    "    for elevel in [500]:\n",
    "        print(f\"doing level {elevel}\")\n",
    "        eds = ds.sel(isobaricInhPa=elevel)\n",
    "        eds = eds.load()\n",
    "        print(\"loaded\")\n",
    "        ZES = ZonalEnergySpectrum(\"wind_speed\")\n",
    "        res = ZES.compute(eds)\n",
    "        res = res.mean(dim=\"time\")\n",
    "        res = res.drop_vars([\"step\"])\n",
    "        print(\"saving\")\n",
    "\n",
    "        res.to_netcdf(f\"/scratch/dx2/cl6824/Fourier/IFS_FC/wind_speed_{elevel}hPa/{elevel}hPa_wind_speed_spectrum_leadtime_{(lead_time_index+1)*6:03d}h.nc\")"
   ]
  },
  {
   "cell_type": "markdown",
   "id": "87fe62d0-7afd-46aa-864a-b228d4473e56",
   "metadata": {
    "jp-MarkdownHeadingCollapsed": true
   },
   "source": [
    "### AIFS - ENS"
   ]
  },
  {
   "cell_type": "code",
   "execution_count": null,
   "id": "5211db34-2e3f-4dcf-9a75-70afd89fd9e8",
   "metadata": {
    "scrolled": true
   },
   "outputs": [],
   "source": [
    "base_path = \"/g/data/dx2/cl6824/ML/AIFS/outputs/postproc/ens/ensv1\"\n",
    "max_lead_time = 60\n",
    "files = [os.path.join(base_path, e) for e in os.listdir(base_path) if e.startswith(\"ifs\")]\n",
    "lead_times = list(range(0, max_lead_time))\n",
    "for lead_time_index in lead_times:\n",
    "    #clear_output(wait=True)\n",
    "\n",
    "    print(f\"doing lead time {lead_time_index}/{max_lead_time}\")\n",
    "    def prep(ds):\n",
    "        # Select only the variables of interest\n",
    "        ds = ds[[\"u\", \"v\", \"w\"]]\n",
    "        # Select a specific lead time\n",
    "        ds = ds.isel(time=[lead_time_index+2]) # it looks like the IC are included (-6h and 0h, so +2 to be consistent with AIFS)\n",
    "        # select the desired pressure level\n",
    "        ds = ds.sel(level=[500, 200])\n",
    "        # Compute wind speed from u and v components\n",
    "        ds[\"wind_speed\"] = ds[\"u\"]**2 + ds[\"v\"]**2 + ds[\"w\"]**2\n",
    "        # Drop the original wind components\n",
    "        ds = ds.drop_vars([\"u\", \"v\", \"w\"])\n",
    "        return ds\n",
    "\n",
    "    ds = xr.open_mfdataset(\n",
    "        files,\n",
    "        combine='by_coords',\n",
    "        preprocess=prep,\n",
    "        chunks={}\n",
    "    )\n",
    "\n",
    "    for elevel in [500, 200]:\n",
    "        print(f\"doing level {elevel}\")\n",
    "        eds = ds.sel(level=elevel)\n",
    "        eds = eds.load()\n",
    "        print(\"loaded\")\n",
    "        ZES = ZonalEnergySpectrum(\"wind_speed\")\n",
    "        res = ZES.compute(eds)\n",
    "        res = res.mean(dim=\"time\")\n",
    "        print(\"saving\")\n",
    "\n",
    "        res.to_netcdf(f\"/scratch/dx2/cl6824/Fourier/AIFS_ens/wind_speed_{elevel}hPa/{elevel}hPa_wind_speed_spectrum_leadtime_{(lead_time_index+1)*6:03d}h.nc\")"
   ]
  },
  {
   "cell_type": "markdown",
   "id": "a5b435ad-2b02-46f9-b6a5-04a0e8dfe90b",
   "metadata": {
    "jp-MarkdownHeadingCollapsed": true
   },
   "source": [
    "### TESTS"
   ]
  },
  {
   "cell_type": "code",
   "execution_count": null,
   "id": "7488a124-19bd-4dd8-a6b5-04c191a61de3",
   "metadata": {},
   "outputs": [],
   "source": []
  }
 ],
 "metadata": {
  "kernelspec": {
   "display_name": "Python [conda env:analysis3]",
   "language": "python",
   "name": "conda-env-analysis3-py"
  },
  "language_info": {
   "codemirror_mode": {
    "name": "ipython",
    "version": 3
   },
   "file_extension": ".py",
   "mimetype": "text/x-python",
   "name": "python",
   "nbconvert_exporter": "python",
   "pygments_lexer": "ipython3",
   "version": "3.11.13"
  }
 },
 "nbformat": 4,
 "nbformat_minor": 5
}
