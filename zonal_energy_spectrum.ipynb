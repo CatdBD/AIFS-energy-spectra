{
 "cells": [
  {
   "cell_type": "code",
   "execution_count": 1,
   "id": "b81b02e3-8a35-4ad1-b1f5-2716891b4bdc",
   "metadata": {},
   "outputs": [],
   "source": [
    "# IMPORTS\n",
    "import os\n",
    "import sys\n",
    "from datetime import datetime, timedelta\n",
    "\n",
    "import numpy as np\n",
    "import xarray as xr\n",
    "\n",
    "import matplotlib.pyplot as plt\n",
    "from matplotlib.ticker import LogLocator, NullFormatter, ScalarFormatter\n",
    "\n",
    "from IPython.display import clear_output\n",
    "from dask.diagnostics import ProgressBar\n",
    "from tqdm.notebook import tqdm\n",
    "\n",
    "# local clone of weatherbench2 found at : https://github.com/google-research/weatherbench2\n",
    "sys.path.append('/scratch/dx2/cl6824/weatherbench2')\n",
    "from weatherbench2 import schema\n",
    "from weatherbench2.derived_variables import ZonalEnergySpectrum"
   ]
  },
  {
   "cell_type": "code",
   "execution_count": 4,
   "id": "999dde4b-bb6e-4722-bccf-f04e34f930e8",
   "metadata": {},
   "outputs": [],
   "source": [
    "# run to have loading bars\n",
    "ProgressBar().register()"
   ]
  },
  {
   "cell_type": "code",
   "execution_count": 2,
   "id": "30537b6e-8b3a-407e-a401-ce354129e9db",
   "metadata": {},
   "outputs": [],
   "source": [
    "def compute_longitudinal_FFT(ds):\n",
    "    \"\"\" Computes a Fourier transform at each latitude along longitudes\n",
    "    ds (xr.Dataset) : a dataset with 'latitude', 'longitude' and 'time' coordinates, and 'wind_speed' variable.\n",
    "\n",
    "    returns:\n",
    "        xr.Dataset : a dataset with latitude and zonal_wavenumber coordinates.\n",
    "    \"\"\"\n",
    "\n",
    "    ds = ds.load() # time consuming task, running the progress bar register makes a progress bar appear\n",
    "\n",
    "    # compute FFT on wind_speed variable\n",
    "    ZES = ZonalEnergySpectrum(\"wind_speed\")\n",
    "    res = ZES.compute(ds)\n",
    "\n",
    "    # average on time to smooth the results\n",
    "    res = res.mean(dim=\"time\")\n",
    "    return res\n",
    "\n",
    "def reduce_to_barra2_domain(ds):\n",
    "    \"\"\" Selects latitudes and longitudes in the BARRA2 AUS-22 domain\"\"\"\n",
    "    latmin = -56.49\n",
    "    latmax = 11.71\n",
    "    lonmin = 89.53\n",
    "    lonmax = 206.13\n",
    "    ds = ds.sel(latitude=slice(latmin, latmax), longitude=slice(lonmin, lonmax))\n",
    "    return ds\n",
    "\n",
    "def tukey_1d(ds, alpha=0.2):\n",
    "    \"\"\"\n",
    "    Tukey window 1D (alpha fraction for tapered region).\n",
    "    \"\"\"\n",
    "    N = len(ds.longitude.values)\n",
    "    if alpha <= 0:\n",
    "        return np.ones(N)\n",
    "    if alpha >= 1:\n",
    "        return np.hanning(N)\n",
    "    x = np.linspace(0, 1, N)\n",
    "    w = np.ones(N)\n",
    "    t = alpha / 2.0\n",
    "    # rising cosine\n",
    "    mask1 = x < t\n",
    "    w[mask1] = 0.5 * (1 + np.cos(np.pi*(2*x[mask1]/alpha - 1)))\n",
    "    # falling cosine\n",
    "    mask2 = x > (1 - t)\n",
    "    w[mask2] = 0.5 * (1 + np.cos(np.pi*(2*(x[mask2]-1)/alpha + 1)))\n",
    "    return xr.DataArray(\n",
    "        w,\n",
    "        coords={\"longitude\": ds.longitude},\n",
    "        dims=\"longitude\",\n",
    "        name=\"weights\"\n",
    "    )\n"
   ]
  },
  {
   "cell_type": "markdown",
   "id": "46838d82-e2b8-49fb-83db-396cc918dbc3",
   "metadata": {
    "jp-MarkdownHeadingCollapsed": true
   },
   "source": [
    "### ERA5"
   ]
  },
  {
   "cell_type": "code",
   "execution_count": 37,
   "id": "a7f835d0-8f73-4d93-9b7a-a034b85d6924",
   "metadata": {},
   "outputs": [],
   "source": [
    "def access_ERA5():\n",
    "    # Retrieve all files (3 fields, 12 months)\n",
    "    u_path = os.path.join(\"/g/data/rt52/era5\", \"pressure-levels\", \"reanalysis\", \"u\", \"2024\")\n",
    "    v_path = os.path.join(\"/g/data/rt52/era5\", \"pressure-levels\", \"reanalysis\", \"v\", \"2024\")\n",
    "    w_path = os.path.join(\"/g/data/rt52/era5\", \"pressure-levels\", \"reanalysis\", \"w\", \"2024\")\n",
    "    u_files = sorted([os.path.join(u_path, e) for e in os.listdir(u_path)])\n",
    "    v_files = sorted([os.path.join(v_path, e) for e in os.listdir(v_path)])\n",
    "    w_files = sorted([os.path.join(w_path, e) for e in os.listdir(w_path)])\n",
    "\n",
    "    # select same days as AIFS and IFS runs, limit to one date per day to reduce computation cost (else, 24h=24 files per day)\n",
    "    dates = [(datetime.strptime('20240101', '%Y%m%d') + timedelta(days=x*3)).strftime('%Y%m%d%H') for x in range(122)]\n",
    "    dates = np.array([np.datetime64(datetime.strptime(d, '%Y%m%d%H')) for d in dates])\n",
    "    \n",
    "    def prep(ds):\n",
    "        ds = ds.sel(time=ds.time.isin(dates))\n",
    "        # select the desired pressure levels\n",
    "        ds = ds.sel(level=[500, 200])\n",
    "        return ds\n",
    "    \n",
    "    # Use open_mfdataset with preprocess\n",
    "    ds = xr.open_mfdataset(\n",
    "        u_files+v_files+w_files,\n",
    "        combine='by_coords',\n",
    "        preprocess=prep,\n",
    "        chunks={}\n",
    "    )\n",
    "\n",
    "    # calculate kinetic energy\n",
    "    ds[\"wind_speed\"] = ds[\"u\"]**2 + ds[\"v\"]**2 + ds[\"w\"]**2\n",
    "    ds = ds.drop_vars([\"u\", \"v\", \"w\"])\n",
    "    ds = ds.sortby(\"latitude\")\n",
    "    return ds"
   ]
  },
  {
   "cell_type": "code",
   "execution_count": null,
   "id": "7ed7fa33-3198-4a03-8a2b-6eecd0020476",
   "metadata": {},
   "outputs": [],
   "source": [
    "ds = access_ERA5()\n",
    "\n",
    "for elevel in [500, 200]:\n",
    "    eds = ds.sel(level=elevel)\n",
    "\n",
    "    # perform global FFT\n",
    "    # res = compute_longitudinal_FFT(eds)\n",
    "    # res.to_netcdf(f\"/scratch/dx2/cl6824/Fourier/ERA5/wind_speed_{elevel}hPa/{elevel}hPa_wind_speed_spectrum.nc\")\n",
    "\n",
    "    # perform BARRA2 domain FFT\n",
    "    eds = reduce_to_barra2_domain(eds)\n",
    "    weights = tukey_1d(eds)\n",
    "    eds = eds * weights\n",
    "    res = compute_longitudinal_FFT(eds)\n",
    "    res.to_netcdf(f\"/scratch/dx2/cl6824/Fourier/ERA5/area/{elevel}hPa_wind_speed_spectrum.nc\")\n",
    "\n",
    "    print(f\"level {elevel} done\")"
   ]
  },
  {
   "cell_type": "markdown",
   "id": "be091c48-21a5-4c26-9dc2-b8abb5397db3",
   "metadata": {
    "jp-MarkdownHeadingCollapsed": true
   },
   "source": [
    "### AIFS"
   ]
  },
  {
   "cell_type": "code",
   "execution_count": 11,
   "id": "8b0678e3-7ac5-4eb1-b478-3bc8542a636b",
   "metadata": {},
   "outputs": [],
   "source": [
    "def access_AIFS(lead_time_index: int):\n",
    "    \"\"\"\n",
    "    lead time index 0 is the first lead time (+6h), lead time = (lead_time_index + 1)*6\n",
    "    \"\"\"\n",
    "\n",
    "    base_path = \"/g/data/dx2/cl6824/ML/AIFS/outputs/postproc/v1/\"\n",
    "    files = [os.path.join(base_path, e) for e in os.listdir(base_path)]\n",
    "    def prep(ds):\n",
    "        # Select only the variables of interest\n",
    "        ds = ds[[\"u\", \"v\", \"w\"]]\n",
    "        # Select a specific lead time\n",
    "        ds = ds.isel(time=[lead_time_index])\n",
    "        # select the desired pressure level\n",
    "        ds = ds.sel(level=[500, 200])\n",
    "        # Compute wind speed from u and v components\n",
    "        ds[\"wind_speed\"] = ds[\"u\"]**2 + ds[\"v\"]**2 + ds[\"w\"]**2\n",
    "        # Drop the original wind components\n",
    "        ds = ds.drop_vars([\"u\", \"v\", \"w\"])\n",
    "        ds = ds.sortby(\"latitude\")\n",
    "        return ds\n",
    "\n",
    "    ds = xr.open_mfdataset(\n",
    "        files,\n",
    "        combine='by_coords',\n",
    "        preprocess=prep,\n",
    "        chunks={}\n",
    "    )\n",
    "    return ds"
   ]
  },
  {
   "cell_type": "code",
   "execution_count": null,
   "id": "b4be1803-cf7f-4aad-9568-bbc31e2a3fa6",
   "metadata": {
    "scrolled": true
   },
   "outputs": [],
   "source": [
    "max_lead_time = 40 # could go to 60 (60*6 = 360) but IFS stops at +240h so no need to do it all\n",
    "lead_times = list(range(0, max_lead_time))\n",
    "\n",
    "for lead_time_index in lead_times:\n",
    "    clear_output(wait=True)\n",
    "\n",
    "    print(f\"doing lead time {lead_time_index}/{max_lead_time}\")\n",
    "    ds = access_AIFS(lead_time_index)\n",
    "\n",
    "    for elevel in [500, 200]:\n",
    "        eds = ds.sel(level=elevel)\n",
    "\n",
    "        # perform global FFT\n",
    "        # ds = compute_longitudinal_FFT(eds)\n",
    "        # res.to_netcdf(f\"/scratch/dx2/cl6824/Fourier/AIFS/wind_speed_{elevel}hPa/{elevel}hPa_wind_speed_spectrum_leadtime_{(lead_time_index+1)*6:03d}h.nc\")\n",
    "\n",
    "        # perform BARRA2 domain FFT\n",
    "        eds = reduce_to_barra2_domain(eds)\n",
    "        weights = tukey_1d(eds)\n",
    "        eds = eds * weights\n",
    "        res = compute_longitudinal_FFT(eds)\n",
    "        res.to_netcdf(f\"/scratch/dx2/cl6824/Fourier/AIFS/area/{elevel}hPa_wind_speed_spectrum_leadtime_{(lead_time_index+1)*6:03d}h.nc\")"
   ]
  },
  {
   "cell_type": "markdown",
   "id": "d604aedf-9d5a-4680-94f9-84d6162fdd0b",
   "metadata": {
    "jp-MarkdownHeadingCollapsed": true
   },
   "source": [
    "### IFS"
   ]
  },
  {
   "cell_type": "code",
   "execution_count": 13,
   "id": "5b72a169-25ad-4d23-8118-0bb10d1926a8",
   "metadata": {},
   "outputs": [],
   "source": [
    "def access_IFS():\n",
    "    base_path = \"/g/data/dx2/cl6824/ML/IFS/\"\n",
    "    files = sorted([os.path.join(base_path, el) for el in os.listdir(base_path) if el.endswith(\".grib\")])\n",
    "    dates = [(datetime.strptime('20240101', '%Y%m%d') + timedelta(days=x*3, hours=12)).strftime('%Y%m%d%H') for x in range(122)]\n",
    "    dates = np.array([np.datetime64(datetime.strptime(d, '%Y%m%d%H')) for d in dates])\n",
    "    def prep(ds):\n",
    "        ds = ds.sel(time=ds.time.isin(dates))\n",
    "        ds[\"wind_speed\"] = ds[\"u\"]**2 + ds[\"v\"]**2 + ds[\"w\"]**2\n",
    "        ds = ds.drop_vars([\"u\", \"v\", \"w\"])\n",
    "        return ds\n",
    "    \n",
    "    ds = xr.open_mfdataset(\n",
    "        files,\n",
    "        combine='by_coords',\n",
    "        preprocess=prep,\n",
    "        chunks={},\n",
    "        decode_timedelta=True\n",
    "    )\n",
    "    ds = ds.sortby(\"latitude\")\n",
    "    return ds"
   ]
  },
  {
   "cell_type": "code",
   "execution_count": 14,
   "id": "9eb60b08-0609-404c-9f4d-e809edd1c26f",
   "metadata": {},
   "outputs": [
    {
     "name": "stdout",
     "output_type": "stream",
     "text": [
      "[########################################] | 100% Completed | 71.07 s\n",
      "[########################################] | 100% Completed | 71.17 s\n",
      "level 500 done\n",
      "[########################################] | 100% Completed | 40.15 s\n",
      "[########################################] | 100% Completed | 40.25 s\n",
      "level 200 done\n"
     ]
    }
   ],
   "source": [
    "ds = access_IFS()\n",
    "\n",
    "for elevel in [500, 200]:\n",
    "    eds = ds.sel(isobaricInhPa=elevel)\n",
    "    eds = eds.drop_vars([\"number\", \"step\"])\n",
    "\n",
    "    # perform global FFT\n",
    "    # res = compute_longitudinal_FFT(eds)\n",
    "    # res.to_netcdf(f\"/scratch/dx2/cl6824/Fourier/IFS/wind_speed_{elevel}hPa/{elevel}hPa_wind_speed_spectrum.nc\")\n",
    "\n",
    "    # perform BARRA2 domain FFT\n",
    "    eds = reduce_to_barra2_domain(eds)\n",
    "    weights = tukey_1d(eds)\n",
    "    eds = eds * weights\n",
    "    res = compute_longitudinal_FFT(eds)\n",
    "    res.to_netcdf(f\"/scratch/dx2/cl6824/Fourier/IFS/area/{elevel}hPa_wind_speed_spectrum.nc\")\n",
    "    print(f\"level {elevel} done\")"
   ]
  },
  {
   "cell_type": "markdown",
   "id": "cf295b6b-53f5-4a37-ba28-996015b6dcfd",
   "metadata": {
    "jp-MarkdownHeadingCollapsed": true
   },
   "source": [
    "### IFS FC"
   ]
  },
  {
   "cell_type": "code",
   "execution_count": 10,
   "id": "9a4d607b-7f9b-4945-b7f5-83bba8c7aa46",
   "metadata": {},
   "outputs": [],
   "source": [
    "def access_IFS_FC(lead_time_index: int):\n",
    "    base_path = \"/g/data/dx2/cl6824/ML/IFS_FC/\"\n",
    "    files = sorted([os.path.join(base_path, el) for el in os.listdir(base_path) if el.endswith(\".grib\")])\n",
    "    dates = [(datetime.strptime('20240101', '%Y%m%d') + timedelta(days=x*3, hours=12)).strftime('%Y%m%d%H') for x in range(122)]\n",
    "    dates = np.array([np.datetime64(datetime.strptime(d, '%Y%m%d%H')) for d in dates])\n",
    "\n",
    "    def prep(ds):\n",
    "        # Select only the variables of interest\n",
    "        ds = ds[[\"u\", \"v\", \"w\"]]\n",
    "        # Select a specific lead time\n",
    "        ds = ds.isel(step=[lead_time_index])\n",
    "        # select the desired pressure level\n",
    "        ds = ds.sel(isobaricInhPa=[500, 200])\n",
    "        # Compute wind speed from u and v components\n",
    "        ds[\"wind_speed\"] = ds[\"u\"]**2 + ds[\"v\"]**2 + ds[\"w\"]**2\n",
    "        # Drop the original wind components\n",
    "        ds = ds.drop_vars([\"u\", \"v\", \"w\"])\n",
    "        ds = ds.sortby(\"latitude\")\n",
    "        return ds\n",
    "\n",
    "    ds = xr.open_mfdataset(\n",
    "        files,\n",
    "        combine='by_coords',\n",
    "        preprocess=prep,\n",
    "        chunks=\"auto\",\n",
    "        backend_kwargs={\n",
    "            \"decode_timedelta\": True   # ou False selon ton cas\n",
    "        }\n",
    "    )\n",
    "    return ds\n"
   ]
  },
  {
   "cell_type": "code",
   "execution_count": null,
   "id": "7fa8af40-cdd7-4af7-ab42-373abfb1546c",
   "metadata": {},
   "outputs": [
    {
     "name": "stdout",
     "output_type": "stream",
     "text": [
      "doing lead time 18/40\n",
      "doing level 500\n",
      "[                                        ] | 0% Completed | 1.14 s ms"
     ]
    }
   ],
   "source": [
    "max_lead_time = 40\n",
    "lead_times = list(range(9, max_lead_time))\n",
    "\n",
    "for lead_time_index in lead_times:\n",
    "    clear_output(wait=True)\n",
    "    print(f\"doing lead time {lead_time_index}/{max_lead_time}\")\n",
    "\n",
    "    ds = access_IFS_FC(lead_time_index)\n",
    "\n",
    "    for elevel in [500]:\n",
    "        print(f\"doing level {elevel}\")\n",
    "        eds = ds.sel(isobaricInhPa=elevel)\n",
    "        eds = eds.drop_vars([\"step\"])\n",
    "\n",
    "        # perform global FFT\n",
    "        # res = compute_longitudinal_FFT(eds)\n",
    "        # res.to_netcdf(f\"/scratch/dx2/cl6824/Fourier/IFS_FC/wind_speed_{elevel}hPa/{elevel}hPa_wind_speed_spectrum_leadtime_{(lead_time_index+1)*6:03d}h.nc\")\n",
    "\n",
    "        # perform BARRA2 domain FFT\n",
    "        eds = reduce_to_barra2_domain(eds)\n",
    "        weights = tukey_1d(eds)\n",
    "        eds = eds * weights\n",
    "        res = compute_longitudinal_FFT(eds)\n",
    "        res.to_netcdf(f\"/scratch/dx2/cl6824/Fourier/IFS_FC/area/{elevel}hPa_wind_speed_spectrum_leadtime_{(lead_time_index+1)*6:03d}h.nc\")"
   ]
  },
  {
   "cell_type": "markdown",
   "id": "87fe62d0-7afd-46aa-864a-b228d4473e56",
   "metadata": {
    "jp-MarkdownHeadingCollapsed": true
   },
   "source": [
    "### AIFS - ENS"
   ]
  },
  {
   "cell_type": "code",
   "execution_count": 15,
   "id": "030060da-7fd1-49df-a77e-5cd9f4aabdbb",
   "metadata": {},
   "outputs": [],
   "source": [
    "def access_AIFS_ENS(lead_time_index: int):\n",
    "    base_path = \"/g/data/dx2/cl6824/ML/AIFS/outputs/postproc/ens/ensv1\"\n",
    "    files = [os.path.join(base_path, e) for e in os.listdir(base_path) if e.startswith(\"ifs\")] # startswith \"ifs\" to avoid initial condition files\n",
    "    def prep(ds):\n",
    "        # Select only the variables of interest\n",
    "        ds = ds[[\"u\", \"v\", \"w\"]]\n",
    "        # Select a specific lead time\n",
    "        ds = ds.isel(time=[lead_time_index+2]) # it looks like the IC are included (-6h and 0h, so +2 to be consistent with AIFS)\n",
    "        # select the desired pressure level\n",
    "        ds = ds.sel(level=[500, 200])\n",
    "        # Compute wind speed from u and v components\n",
    "        ds[\"wind_speed\"] = ds[\"u\"]**2 + ds[\"v\"]**2 + ds[\"w\"]**2\n",
    "        # Drop the original wind components\n",
    "        ds = ds.drop_vars([\"u\", \"v\", \"w\"])\n",
    "        return ds\n",
    "\n",
    "    ds = xr.open_mfdataset(\n",
    "        files,\n",
    "        combine='by_coords',\n",
    "        preprocess=prep,\n",
    "        chunks={}\n",
    "    )\n",
    "    ds = ds.sortby(\"latitude\")\n",
    "    return ds"
   ]
  },
  {
   "cell_type": "code",
   "execution_count": null,
   "id": "5211db34-2e3f-4dcf-9a75-70afd89fd9e8",
   "metadata": {},
   "outputs": [],
   "source": [
    "max_lead_time = 40\n",
    "lead_times = list(range(0, max_lead_time))\n",
    "\n",
    "for lead_time_index in lead_times:\n",
    "    clear_output(wait=True)\n",
    "    print(f\"doing lead time {lead_time_index}/{max_lead_time}\")\n",
    "    ds = access_AIFS_ENS(lead_time_index)\n",
    "\n",
    "    for elevel in [500, 200]:\n",
    "        print(f\"doing level {elevel}\")\n",
    "        eds = ds.sel(level=elevel)\n",
    "\n",
    "        # perform global FFT\n",
    "        # res = compute_longitudinal_FFT(eds)\n",
    "        # res.to_netcdf(f\"/scratch/dx2/cl6824/Fourier/AIFS_ens/wind_speed_{elevel}hPa/{elevel}hPa_wind_speed_spectrum_leadtime_{(lead_time_index+1)*6:03d}h.nc\")\n",
    "\n",
    "        # perform BARRA2 domain FFT\n",
    "        eds = reduce_to_barra2_domain(eds)\n",
    "        weights = tukey_1d(eds)\n",
    "        eds = eds * weights\n",
    "        res = compute_longitudinal_FFT(eds)\n",
    "        res.to_netcdf(f\"/scratch/dx2/cl6824/Fourier/AIFS_ens/area/{elevel}hPa_wind_speed_spectrum_leadtime_{(lead_time_index+1)*6:03d}h.nc\")"
   ]
  },
  {
   "cell_type": "markdown",
   "id": "075486a1-27e6-4f53-8c84-57109f6dd593",
   "metadata": {
    "jp-MarkdownHeadingCollapsed": true
   },
   "source": [
    "### BARRA2"
   ]
  },
  {
   "cell_type": "code",
   "execution_count": 33,
   "id": "796dbc52-a01c-4782-b65a-2d9e90387088",
   "metadata": {},
   "outputs": [],
   "source": [
    "def access_BARRA2(level):\n",
    "    dates = [(datetime.strptime('20240101', '%Y%m%d') + timedelta(days=x*3, hours=12)).strftime('%Y%m%d%H') for x in range(122)]\n",
    "    dates = np.array([np.datetime64(datetime.strptime(d, '%Y%m%d%H')) for d in dates])\n",
    "    u_level = f\"/g/data/ob53/BARRA2/output/reanalysis/AUS-22/BOM/ERA5/historical/eda/BARRA-RE2/v1/1hr/ua{level}/v20250528\"\n",
    "    ufiles = [os.path.join(u_level, el) for el in os.listdir(u_level) if el[-9:-5] == \"2024\"]\n",
    "    v_level = f\"/g/data/ob53/BARRA2/output/reanalysis/AUS-22/BOM/ERA5/historical/eda/BARRA-RE2/v1/1hr/va{level}/v20250528\"\n",
    "    vfiles = [os.path.join(v_level, el) for el in os.listdir(v_level) if el[-9:-5] == \"2024\"]\n",
    "    w_level = f\"/g/data/ob53/BARRA2/output/reanalysis/AUS-22/BOM/ERA5/historical/eda/BARRA-RE2/v1/1hr/wa{level}/v20250528\"\n",
    "    wfiles = [os.path.join(w_level, el) for el in os.listdir(w_level) if el[-9:-5] == \"2024\"]\n",
    "\n",
    "    def prep(ds):\n",
    "        ds = ds.sel(time=ds.time.isin(dates))\n",
    "        ds = ds.sel(realization='ctl_0')\n",
    "        ds = ds.rename({'lat': 'latitude', 'lon': 'longitude'})\n",
    "        return ds\n",
    "    ds = xr.open_mfdataset(ufiles+vfiles+wfiles,\n",
    "        combine='by_coords',\n",
    "        preprocess=prep,\n",
    "        chunks={},\n",
    "        decode_timedelta=True\n",
    "    )\n",
    "    ds[\"wind_speed\"] = ds[f\"ua{level}\"]**2 + ds[f\"va{level}\"]**2 + ds[f\"wa{level}\"]**2\n",
    "    ds = ds.drop_vars([f\"ua{level}\", f\"va{level}\", f\"wa{level}\"])\n",
    "    ds = ds.sortby(\"latitude\")\n",
    "    return ds"
   ]
  },
  {
   "cell_type": "code",
   "execution_count": null,
   "id": "207e8683-42d8-452b-9176-53208f40b307",
   "metadata": {},
   "outputs": [],
   "source": [
    "levels = [500, 200]\n",
    "\n",
    "for elevel in levels:\n",
    "    ds = access_BARRA2(elevel)\n",
    "\n",
    "    # perform BARRA2 domain FFT\n",
    "    W = tukey_1d(len(ds.longitude.values))\n",
    "    nds = ds * W\n",
    "    res = compute_longitudinal_FFT(nds)\n",
    "\n",
    "    res.to_netcdf(f\"/scratch/dx2/cl6824/Fourier/BARRA2/area/{elevel}hPa_wind_speed_spectrum.nc\")\n",
    "    "
   ]
  },
  {
   "cell_type": "markdown",
   "id": "a5b435ad-2b02-46f9-b6a5-04a0e8dfe90b",
   "metadata": {
    "jp-MarkdownHeadingCollapsed": true
   },
   "source": [
    "### TESTS"
   ]
  },
  {
   "cell_type": "code",
   "execution_count": 16,
   "id": "7488a124-19bd-4dd8-a6b5-04c191a61de3",
   "metadata": {},
   "outputs": [
    {
     "data": {
      "text/plain": [
       "[<matplotlib.lines.Line2D at 0x14bd3fa4dc50>]"
      ]
     },
     "execution_count": 16,
     "metadata": {},
     "output_type": "execute_result"
    },
    {
     "data": {
      "image/png": "[encoded data removed]",
      "text/plain": [
       "<Figure size 640x480 with 1 Axes>"
      ]
     },
     "metadata": {},
     "output_type": "display_data"
    }
   ],
   "source": [
    "src = xr.DataArray(\n",
    "        np.zeros(1000),\n",
    "        coords={\"longitude\": np.arange(0, 1000, 1)},\n",
    "        dims=\"longitude\",\n",
    "        name=\"weights\"\n",
    "    )\n",
    "ds = tukey_1d(src, 0.8)\n",
    "plt.plot(ds)"
   ]
  },
  {
   "cell_type": "markdown",
   "id": "6cf0e58f-9e5e-4062-906c-b5b9f161715d",
   "metadata": {
    "jp-MarkdownHeadingCollapsed": true
   },
   "source": [
    "### BIN"
   ]
  },
  {
   "cell_type": "markdown",
   "id": "be0b60f5-266e-400e-b3e1-2fd4e8b55f1c",
   "metadata": {},
   "source": [
    "#### Old ERA5 code with temporary files"
   ]
  },
  {
   "cell_type": "code",
   "execution_count": null,
   "id": "ba7547f3-55df-41cc-b054-2893834d76e4",
   "metadata": {},
   "outputs": [],
   "source": [
    "print(\"starting\")\n",
    "# Loop on all months\n",
    "for i in range(len(u_files)):\n",
    "    print(f\"making files n°{i+1}/12\")\n",
    "    \n",
    "    # store a file of kinetic energy per month\n",
    "    ds.to_netcdf(f\"/scratch/dx2/cl6824/Fourier/ERA5/tmp/times_{i:02d}.nc\")\n",
    "\n",
    "\n",
    "# Calculate spectra of each monthly file\n",
    "base_path = \"/scratch/dx2/cl6824/Fourier/ERA5/tmp\"\n",
    "files = os.listdir(base_path)\n",
    "files = sorted([os.path.join(base_path, efile) for efile in files if (efile.endswith(\".nc\") and efile.startswith(\"times\"))])\n",
    "\n",
    "for i, efile in enumerate(files):\n",
    "    print(f\"performing file n°{i}/12\")\n",
    "    ds = xr.open_dataset(efile)\n",
    "    for elevel in [200, 500]:\n",
    "        print(\"loading\")\n",
    "        eds = ds.sel(level=elevel)\n",
    "        eds = eds.load()\n",
    "        print(\"computing ZES\")\n",
    "        ZES = ZonalEnergySpectrum(\"wind_speed\")\n",
    "        res = ZES.compute(eds)\n",
    "        print(\"saving results\")\n",
    "        res.to_netcdf(f\"/scratch/dx2/cl6824/Fourier/ERA5/tmp/fourier_{elevel}hPa_{i:02d}.nc\")\n",
    "\n",
    "\n",
    "# Combine spectras in a final file over all year\n",
    "base_path = \"/scratch/dx2/cl6824/Fourier/ERA5/tmp\"\n",
    "ffiles = [efile for efile in os.listdir(base_path) if efile.startswith(\"fourier\")]\n",
    "for elevel in [200, 500]:\n",
    "    files_level = [os.path.join(base_path, efile) for efile in ffiles if efile.split(\"_\")[1] == str(elevel)+\"hPa\"]\n",
    "    ds_level = xr.open_mfdataset(files_level,\n",
    "            combine='by_coords',\n",
    "            chunks={}\n",
    "        )\n",
    "    ds_level = ds_level.mean(dim=\"time\")\n",
    "    ds_level.to_netcdf(f\"/scratch/dx2/cl6824/Fourier/ERA5/wind_speed_{elevel}hPa/{elevel}hPa_wind_speed_spectrum.nc\")"
   ]
  }
 ],
 "metadata": {
  "kernelspec": {
   "display_name": "Python [conda env:analysis3]",
   "language": "python",
   "name": "conda-env-analysis3-py"
  },
  "language_info": {
   "codemirror_mode": {
    "name": "ipython",
    "version": 3
   },
   "file_extension": ".py",
   "mimetype": "text/x-python",
   "name": "python",
   "nbconvert_exporter": "python",
   "pygments_lexer": "ipython3",
   "version": "3.11.13"
  }
 },
 "nbformat": 4,
 "nbformat_minor": 5
}
