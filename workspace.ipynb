{
 "cells": [
  {
   "cell_type": "code",
   "execution_count": 1,
   "id": "eabe69cc-07a2-427d-90fc-58aeabb4b638",
   "metadata": {},
   "outputs": [],
   "source": [
    "# IMPORTS\n",
    "\n",
    "import os\n",
    "import xarray as xr\n",
    "import numpy as np\n",
    "import matplotlib.pyplot as plt\n",
    "from tqdm.auto import tqdm\n",
    "from datetime import datetime, timedelta"
   ]
  },
  {
   "cell_type": "markdown",
   "id": "e44b1440-b796-4c3f-b530-3f3161ed5a8b",
   "metadata": {},
   "source": [
    "### SPECTRA PLOTS"
   ]
  },
  {
   "cell_type": "code",
   "execution_count": 2,
   "id": "92aa39d4-2bdb-4e11-ada7-2c7152efbf28",
   "metadata": {},
   "outputs": [],
   "source": [
    "# location of spectra files\n",
    "aifs_path = \"/scratch/dx2/cl6824/Fourier/AIFS\"\n",
    "e5_path = \"/scratch/dx2/cl6824/Fourier/ERA5\"\n",
    "ifs_path = \"/scratch/dx2/cl6824/Fourier/IFS\"\n",
    "ifs_fc_path = \"/scratch/dx2/cl6824/Fourier/IFS_FC\"\n",
    "aifs_ens_path = \"/scratch/dx2/cl6824/Fourier/AIFS_ens\""
   ]
  },
  {
   "cell_type": "code",
   "execution_count": 3,
   "id": "431b235e-ad6a-4921-898d-b96ea15aa485",
   "metadata": {},
   "outputs": [],
   "source": [
    "# level selection between 200 and 500 (hPa)\n",
    "level = 500"
   ]
  },
  {
   "cell_type": "code",
   "execution_count": 4,
   "id": "4cd7799d-33f0-4ac2-b7a7-00e3de0f27c7",
   "metadata": {},
   "outputs": [],
   "source": [
    "# listing files to retrieve\n",
    "files_aifs = sorted([el for el in os.listdir(os.path.join(aifs_path, f\"wind_speed_{level}hPa\")) if el.endswith(\".nc\")])\n",
    "files_aifs = [os.path.join(aifs_path, f\"wind_speed_{level}hPa\", efile) for efile in files_aifs]\n",
    "files_e5 = sorted([el for el in os.listdir(os.path.join(e5_path, f\"wind_speed_{level}hPa\")) if el.endswith(\".nc\")])\n",
    "files_e5 = [os.path.join(e5_path, f\"wind_speed_{level}hPa\", efile) for efile in files_e5]\n",
    "files_ifs = sorted([el for el in os.listdir(os.path.join(ifs_path, f\"wind_speed_{level}hPa\")) if el.endswith(\".nc\")])\n",
    "files_ifs = [os.path.join(ifs_path, f\"wind_speed_{level}hPa\", efile) for efile in files_ifs]\n",
    "files_ifs_fc = sorted([el for el in os.listdir(os.path.join(ifs_fc_path, f\"wind_speed_{level}hPa\")) if el.endswith(\".nc\")])\n",
    "files_ifs_fc = [os.path.join(ifs_fc_path, f\"wind_speed_{level}hPa\", efile) for efile in files_ifs_fc]\n",
    "files_aifs_ens = sorted([el for el in os.listdir(os.path.join(aifs_ens_path, f\"wind_speed_{level}hPa\")) if el.endswith(\".nc\")])\n",
    "files_aifs_ens = [os.path.join(aifs_ens_path, f\"wind_speed_{level}hPa\", efile) for efile in files_aifs_ens]"
   ]
  },
  {
   "cell_type": "code",
   "execution_count": 5,
   "id": "374a1620-4cfa-4c02-b9e9-47e7f18d6845",
   "metadata": {},
   "outputs": [],
   "source": [
    "# listing lead times\n",
    "#lead_times = [(i+1)*6 for i in range(len(files_aifs))] # +360h\n",
    "lead_times = [(i+1)*6 for i in range(len(files_ifs_fc))] # +240h"
   ]
  },
  {
   "cell_type": "code",
   "execution_count": 15,
   "id": "9a2bb0eb-43a0-48eb-b424-3691f344ac93",
   "metadata": {},
   "outputs": [],
   "source": [
    "# pre-loading both era5 and IFS as they do not depend on lead time\n",
    "e5 = xr.open_dataset(files_e5[0])\n",
    "ifs = xr.open_dataset(files_ifs[0]).sortby(\"latitude\", ascending=False)"
   ]
  },
  {
   "cell_type": "code",
   "execution_count": 7,
   "id": "b22da31a-0acf-47f3-a716-d87ee7c7551f",
   "metadata": {},
   "outputs": [],
   "source": [
    "def def_rossby(lat: float) -> float:\n",
    "    \"\"\"\n",
    "    Calculates the Rossby deformation wavenumber at a given latitude.\n",
    "\n",
    "    The Rossby deformation wavenumber (k_D) is the inverse of the Rossby\n",
    "    deformation radius (L_D), which characterizes the scale at which\n",
    "    rotational effects (Coriolis force) and buoyancy effects (stratification)\n",
    "    are in balance in the atmosphere or ocean.\n",
    "\n",
    "    Args:\n",
    "        lat (float): Latitude in degrees.\n",
    "\n",
    "    Returns:\n",
    "        float: Rossby deformation wavenumber (non-dimensional).\n",
    "    \"\"\"\n",
    "\n",
    "    # Physical constants\n",
    "    Omega = 7.2921e-5   # Earth's rotation rate [rad/s]\n",
    "    g = 9.81            # Gravitational acceleration [m/s²]\n",
    "    H = 10000           # Characteristic scale height [m] (10 km typical for troposphere)\n",
    "    N = 0.01            # Brunt–Väisälä frequency [s⁻¹], typical value in troposphere\n",
    "                        # (true formula: N = (g/θ) * (dθ/dz))\n",
    "\n",
    "    # Convert latitude to radians\n",
    "    lat_rad = np.deg2rad(lat)\n",
    "    # Coriolis parameter at latitude φ\n",
    "    f = abs(2 * Omega * np.sin(lat_rad))  # [s⁻¹]\n",
    "    # Rossby deformation radius [m]\n",
    "    L_D = (N * H) / f\n",
    "    # Earth's mean radius [m]\n",
    "    R = 6.37e6\n",
    "    # Rossby deformation wavenumber (dimensionless, scaled by Earth's radius)\n",
    "    ross = R / L_D\n",
    "    return ross\n",
    "\n",
    "def scaled_power_law(k, base_k, base_E, slope):\n",
    "    \"\"\"Return E(k) ∝ (k/base_k)^slope scaled to base_E.\"\"\"\n",
    "    return base_E * (k/base_k) ** slope"
   ]
  },
  {
   "cell_type": "code",
   "execution_count": 21,
   "id": "81cb15c2-c05c-4a92-b7ff-508afb758778",
   "metadata": {},
   "outputs": [],
   "source": [
    "# defines a list of latitude ranges for which plots will be made\n",
    "#ranges = [slice(i+30, i) for i in range(-90, 1, 30)]\n",
    "ranges = [slice(15, -15)]"
   ]
  },
  {
   "cell_type": "code",
   "execution_count": 22,
   "id": "3f06afac-3afe-4f9f-b026-4c48a9fcf773",
   "metadata": {},
   "outputs": [
    {
     "data": {
      "application/vnd.jupyter.widget-view+json": {
       "model_id": "ed6a03de9172463fb7f0d474b67fe112",
       "version_major": 2,
       "version_minor": 0
      },
      "text/plain": [
       "Lead times:   0%|          | 0/40 [00:00<?, ?it/s]"
      ]
     },
     "metadata": {},
     "output_type": "display_data"
    },
    {
     "data": {
      "application/vnd.jupyter.widget-view+json": {
       "model_id": "36a056b50e294ef0bf9b9aaaabd14f3e",
       "version_major": 2,
       "version_minor": 0
      },
      "text/plain": [
       "Lat ranges @ +006h:   0%|          | 0/1 [00:00<?, ?it/s]"
      ]
     },
     "metadata": {},
     "output_type": "display_data"
    },
    {
     "name": "stderr",
     "output_type": "stream",
     "text": [
      "/jobfs/147851250.gadi-pbs/ipykernel_1080883/179644666.py:14: FutureWarning: In a future version, xarray will not decode timedelta values based on the presence of a timedelta-like units attribute by default. Instead it will rely on the presence of a timedelta64 dtype attribute, which is now xarray's default way of encoding timedelta64 values. To continue decoding timedeltas based on the presence of a timedelta-like units attribute, users will need to explicitly opt-in by passing True or CFTimedeltaCoder(decode_via_units=True) to decode_timedelta. To silence this warning, set decode_timedelta to True, False, or a 'CFTimedeltaCoder' instance.\n",
      "  ifs_fc = xr.open_dataset(file).isel(step=0)\n"
     ]
    },
    {
     "data": {
      "application/vnd.jupyter.widget-view+json": {
       "model_id": "3eeeca17c04a4125b0399d3cc4ca5518",
       "version_major": 2,
       "version_minor": 0
      },
      "text/plain": [
       "Lat ranges @ +012h:   0%|          | 0/1 [00:00<?, ?it/s]"
      ]
     },
     "metadata": {},
     "output_type": "display_data"
    },
    {
     "name": "stderr",
     "output_type": "stream",
     "text": [
      "/jobfs/147851250.gadi-pbs/ipykernel_1080883/179644666.py:14: FutureWarning: In a future version, xarray will not decode timedelta values based on the presence of a timedelta-like units attribute by default. Instead it will rely on the presence of a timedelta64 dtype attribute, which is now xarray's default way of encoding timedelta64 values. To continue decoding timedeltas based on the presence of a timedelta-like units attribute, users will need to explicitly opt-in by passing True or CFTimedeltaCoder(decode_via_units=True) to decode_timedelta. To silence this warning, set decode_timedelta to True, False, or a 'CFTimedeltaCoder' instance.\n",
      "  ifs_fc = xr.open_dataset(file).isel(step=0)\n"
     ]
    },
    {
     "data": {
      "application/vnd.jupyter.widget-view+json": {
       "model_id": "d42598c3bdf14d118af3aa4fa2303b3f",
       "version_major": 2,
       "version_minor": 0
      },
      "text/plain": [
       "Lat ranges @ +018h:   0%|          | 0/1 [00:00<?, ?it/s]"
      ]
     },
     "metadata": {},
     "output_type": "display_data"
    },
    {
     "name": "stderr",
     "output_type": "stream",
     "text": [
      "/jobfs/147851250.gadi-pbs/ipykernel_1080883/179644666.py:14: FutureWarning: In a future version, xarray will not decode timedelta values based on the presence of a timedelta-like units attribute by default. Instead it will rely on the presence of a timedelta64 dtype attribute, which is now xarray's default way of encoding timedelta64 values. To continue decoding timedeltas based on the presence of a timedelta-like units attribute, users will need to explicitly opt-in by passing True or CFTimedeltaCoder(decode_via_units=True) to decode_timedelta. To silence this warning, set decode_timedelta to True, False, or a 'CFTimedeltaCoder' instance.\n",
      "  ifs_fc = xr.open_dataset(file).isel(step=0)\n"
     ]
    },
    {
     "data": {
      "application/vnd.jupyter.widget-view+json": {
       "model_id": "33b7d4220af74d33bba04096b0185310",
       "version_major": 2,
       "version_minor": 0
      },
      "text/plain": [
       "Lat ranges @ +024h:   0%|          | 0/1 [00:00<?, ?it/s]"
      ]
     },
     "metadata": {},
     "output_type": "display_data"
    },
    {
     "name": "stderr",
     "output_type": "stream",
     "text": [
      "/jobfs/147851250.gadi-pbs/ipykernel_1080883/179644666.py:14: FutureWarning: In a future version, xarray will not decode timedelta values based on the presence of a timedelta-like units attribute by default. Instead it will rely on the presence of a timedelta64 dtype attribute, which is now xarray's default way of encoding timedelta64 values. To continue decoding timedeltas based on the presence of a timedelta-like units attribute, users will need to explicitly opt-in by passing True or CFTimedeltaCoder(decode_via_units=True) to decode_timedelta. To silence this warning, set decode_timedelta to True, False, or a 'CFTimedeltaCoder' instance.\n",
      "  ifs_fc = xr.open_dataset(file).isel(step=0)\n"
     ]
    },
    {
     "data": {
      "application/vnd.jupyter.widget-view+json": {
       "model_id": "f0d8ad4d1a7f477fa6454e98c742c76b",
       "version_major": 2,
       "version_minor": 0
      },
      "text/plain": [
       "Lat ranges @ +030h:   0%|          | 0/1 [00:00<?, ?it/s]"
      ]
     },
     "metadata": {},
     "output_type": "display_data"
    },
    {
     "name": "stderr",
     "output_type": "stream",
     "text": [
      "/jobfs/147851250.gadi-pbs/ipykernel_1080883/179644666.py:14: FutureWarning: In a future version, xarray will not decode timedelta values based on the presence of a timedelta-like units attribute by default. Instead it will rely on the presence of a timedelta64 dtype attribute, which is now xarray's default way of encoding timedelta64 values. To continue decoding timedeltas based on the presence of a timedelta-like units attribute, users will need to explicitly opt-in by passing True or CFTimedeltaCoder(decode_via_units=True) to decode_timedelta. To silence this warning, set decode_timedelta to True, False, or a 'CFTimedeltaCoder' instance.\n",
      "  ifs_fc = xr.open_dataset(file).isel(step=0)\n"
     ]
    },
    {
     "data": {
      "application/vnd.jupyter.widget-view+json": {
       "model_id": "89f986998f9647ce9bcec4ca5e409078",
       "version_major": 2,
       "version_minor": 0
      },
      "text/plain": [
       "Lat ranges @ +036h:   0%|          | 0/1 [00:00<?, ?it/s]"
      ]
     },
     "metadata": {},
     "output_type": "display_data"
    },
    {
     "name": "stderr",
     "output_type": "stream",
     "text": [
      "/jobfs/147851250.gadi-pbs/ipykernel_1080883/179644666.py:14: FutureWarning: In a future version, xarray will not decode timedelta values based on the presence of a timedelta-like units attribute by default. Instead it will rely on the presence of a timedelta64 dtype attribute, which is now xarray's default way of encoding timedelta64 values. To continue decoding timedeltas based on the presence of a timedelta-like units attribute, users will need to explicitly opt-in by passing True or CFTimedeltaCoder(decode_via_units=True) to decode_timedelta. To silence this warning, set decode_timedelta to True, False, or a 'CFTimedeltaCoder' instance.\n",
      "  ifs_fc = xr.open_dataset(file).isel(step=0)\n"
     ]
    },
    {
     "data": {
      "application/vnd.jupyter.widget-view+json": {
       "model_id": "0359b21c80504166b6a0ff20764d350f",
       "version_major": 2,
       "version_minor": 0
      },
      "text/plain": [
       "Lat ranges @ +042h:   0%|          | 0/1 [00:00<?, ?it/s]"
      ]
     },
     "metadata": {},
     "output_type": "display_data"
    },
    {
     "name": "stderr",
     "output_type": "stream",
     "text": [
      "/jobfs/147851250.gadi-pbs/ipykernel_1080883/179644666.py:14: FutureWarning: In a future version, xarray will not decode timedelta values based on the presence of a timedelta-like units attribute by default. Instead it will rely on the presence of a timedelta64 dtype attribute, which is now xarray's default way of encoding timedelta64 values. To continue decoding timedeltas based on the presence of a timedelta-like units attribute, users will need to explicitly opt-in by passing True or CFTimedeltaCoder(decode_via_units=True) to decode_timedelta. To silence this warning, set decode_timedelta to True, False, or a 'CFTimedeltaCoder' instance.\n",
      "  ifs_fc = xr.open_dataset(file).isel(step=0)\n"
     ]
    },
    {
     "data": {
      "application/vnd.jupyter.widget-view+json": {
       "model_id": "6ebf41d124264aebb267f168ab20825b",
       "version_major": 2,
       "version_minor": 0
      },
      "text/plain": [
       "Lat ranges @ +048h:   0%|          | 0/1 [00:00<?, ?it/s]"
      ]
     },
     "metadata": {},
     "output_type": "display_data"
    },
    {
     "name": "stderr",
     "output_type": "stream",
     "text": [
      "/jobfs/147851250.gadi-pbs/ipykernel_1080883/179644666.py:14: FutureWarning: In a future version, xarray will not decode timedelta values based on the presence of a timedelta-like units attribute by default. Instead it will rely on the presence of a timedelta64 dtype attribute, which is now xarray's default way of encoding timedelta64 values. To continue decoding timedeltas based on the presence of a timedelta-like units attribute, users will need to explicitly opt-in by passing True or CFTimedeltaCoder(decode_via_units=True) to decode_timedelta. To silence this warning, set decode_timedelta to True, False, or a 'CFTimedeltaCoder' instance.\n",
      "  ifs_fc = xr.open_dataset(file).isel(step=0)\n"
     ]
    },
    {
     "data": {
      "application/vnd.jupyter.widget-view+json": {
       "model_id": "53d1c8f114e14ada943f7c14ce7c47e1",
       "version_major": 2,
       "version_minor": 0
      },
      "text/plain": [
       "Lat ranges @ +054h:   0%|          | 0/1 [00:00<?, ?it/s]"
      ]
     },
     "metadata": {},
     "output_type": "display_data"
    },
    {
     "name": "stderr",
     "output_type": "stream",
     "text": [
      "/jobfs/147851250.gadi-pbs/ipykernel_1080883/179644666.py:14: FutureWarning: In a future version, xarray will not decode timedelta values based on the presence of a timedelta-like units attribute by default. Instead it will rely on the presence of a timedelta64 dtype attribute, which is now xarray's default way of encoding timedelta64 values. To continue decoding timedeltas based on the presence of a timedelta-like units attribute, users will need to explicitly opt-in by passing True or CFTimedeltaCoder(decode_via_units=True) to decode_timedelta. To silence this warning, set decode_timedelta to True, False, or a 'CFTimedeltaCoder' instance.\n",
      "  ifs_fc = xr.open_dataset(file).isel(step=0)\n"
     ]
    },
    {
     "data": {
      "application/vnd.jupyter.widget-view+json": {
       "model_id": "8f61b66667d743a68bed1d1dfd0031f6",
       "version_major": 2,
       "version_minor": 0
      },
      "text/plain": [
       "Lat ranges @ +060h:   0%|          | 0/1 [00:00<?, ?it/s]"
      ]
     },
     "metadata": {},
     "output_type": "display_data"
    },
    {
     "name": "stderr",
     "output_type": "stream",
     "text": [
      "/jobfs/147851250.gadi-pbs/ipykernel_1080883/179644666.py:14: FutureWarning: In a future version, xarray will not decode timedelta values based on the presence of a timedelta-like units attribute by default. Instead it will rely on the presence of a timedelta64 dtype attribute, which is now xarray's default way of encoding timedelta64 values. To continue decoding timedeltas based on the presence of a timedelta-like units attribute, users will need to explicitly opt-in by passing True or CFTimedeltaCoder(decode_via_units=True) to decode_timedelta. To silence this warning, set decode_timedelta to True, False, or a 'CFTimedeltaCoder' instance.\n",
      "  ifs_fc = xr.open_dataset(file).isel(step=0)\n"
     ]
    },
    {
     "data": {
      "application/vnd.jupyter.widget-view+json": {
       "model_id": "0be8cbb03df3417ba842d163e0b03d71",
       "version_major": 2,
       "version_minor": 0
      },
      "text/plain": [
       "Lat ranges @ +066h:   0%|          | 0/1 [00:00<?, ?it/s]"
      ]
     },
     "metadata": {},
     "output_type": "display_data"
    },
    {
     "name": "stderr",
     "output_type": "stream",
     "text": [
      "/jobfs/147851250.gadi-pbs/ipykernel_1080883/179644666.py:14: FutureWarning: In a future version, xarray will not decode timedelta values based on the presence of a timedelta-like units attribute by default. Instead it will rely on the presence of a timedelta64 dtype attribute, which is now xarray's default way of encoding timedelta64 values. To continue decoding timedeltas based on the presence of a timedelta-like units attribute, users will need to explicitly opt-in by passing True or CFTimedeltaCoder(decode_via_units=True) to decode_timedelta. To silence this warning, set decode_timedelta to True, False, or a 'CFTimedeltaCoder' instance.\n",
      "  ifs_fc = xr.open_dataset(file).isel(step=0)\n"
     ]
    },
    {
     "data": {
      "application/vnd.jupyter.widget-view+json": {
       "model_id": "48b6f8540db840a595fb4f38df61c6c5",
       "version_major": 2,
       "version_minor": 0
      },
      "text/plain": [
       "Lat ranges @ +072h:   0%|          | 0/1 [00:00<?, ?it/s]"
      ]
     },
     "metadata": {},
     "output_type": "display_data"
    },
    {
     "name": "stderr",
     "output_type": "stream",
     "text": [
      "/jobfs/147851250.gadi-pbs/ipykernel_1080883/179644666.py:14: FutureWarning: In a future version, xarray will not decode timedelta values based on the presence of a timedelta-like units attribute by default. Instead it will rely on the presence of a timedelta64 dtype attribute, which is now xarray's default way of encoding timedelta64 values. To continue decoding timedeltas based on the presence of a timedelta-like units attribute, users will need to explicitly opt-in by passing True or CFTimedeltaCoder(decode_via_units=True) to decode_timedelta. To silence this warning, set decode_timedelta to True, False, or a 'CFTimedeltaCoder' instance.\n",
      "  ifs_fc = xr.open_dataset(file).isel(step=0)\n"
     ]
    },
    {
     "data": {
      "application/vnd.jupyter.widget-view+json": {
       "model_id": "23e0d3c10a3545a3a0fb6793f96c8cf3",
       "version_major": 2,
       "version_minor": 0
      },
      "text/plain": [
       "Lat ranges @ +078h:   0%|          | 0/1 [00:00<?, ?it/s]"
      ]
     },
     "metadata": {},
     "output_type": "display_data"
    },
    {
     "name": "stderr",
     "output_type": "stream",
     "text": [
      "/jobfs/147851250.gadi-pbs/ipykernel_1080883/179644666.py:14: FutureWarning: In a future version, xarray will not decode timedelta values based on the presence of a timedelta-like units attribute by default. Instead it will rely on the presence of a timedelta64 dtype attribute, which is now xarray's default way of encoding timedelta64 values. To continue decoding timedeltas based on the presence of a timedelta-like units attribute, users will need to explicitly opt-in by passing True or CFTimedeltaCoder(decode_via_units=True) to decode_timedelta. To silence this warning, set decode_timedelta to True, False, or a 'CFTimedeltaCoder' instance.\n",
      "  ifs_fc = xr.open_dataset(file).isel(step=0)\n"
     ]
    },
    {
     "data": {
      "application/vnd.jupyter.widget-view+json": {
       "model_id": "ade131b92cda4cdea04f6f8e1927f5d8",
       "version_major": 2,
       "version_minor": 0
      },
      "text/plain": [
       "Lat ranges @ +084h:   0%|          | 0/1 [00:00<?, ?it/s]"
      ]
     },
     "metadata": {},
     "output_type": "display_data"
    },
    {
     "name": "stderr",
     "output_type": "stream",
     "text": [
      "/jobfs/147851250.gadi-pbs/ipykernel_1080883/179644666.py:14: FutureWarning: In a future version, xarray will not decode timedelta values based on the presence of a timedelta-like units attribute by default. Instead it will rely on the presence of a timedelta64 dtype attribute, which is now xarray's default way of encoding timedelta64 values. To continue decoding timedeltas based on the presence of a timedelta-like units attribute, users will need to explicitly opt-in by passing True or CFTimedeltaCoder(decode_via_units=True) to decode_timedelta. To silence this warning, set decode_timedelta to True, False, or a 'CFTimedeltaCoder' instance.\n",
      "  ifs_fc = xr.open_dataset(file).isel(step=0)\n"
     ]
    },
    {
     "data": {
      "application/vnd.jupyter.widget-view+json": {
       "model_id": "da530c228e4246939fa0e6d4fafb555d",
       "version_major": 2,
       "version_minor": 0
      },
      "text/plain": [
       "Lat ranges @ +090h:   0%|          | 0/1 [00:00<?, ?it/s]"
      ]
     },
     "metadata": {},
     "output_type": "display_data"
    },
    {
     "name": "stderr",
     "output_type": "stream",
     "text": [
      "/jobfs/147851250.gadi-pbs/ipykernel_1080883/179644666.py:14: FutureWarning: In a future version, xarray will not decode timedelta values based on the presence of a timedelta-like units attribute by default. Instead it will rely on the presence of a timedelta64 dtype attribute, which is now xarray's default way of encoding timedelta64 values. To continue decoding timedeltas based on the presence of a timedelta-like units attribute, users will need to explicitly opt-in by passing True or CFTimedeltaCoder(decode_via_units=True) to decode_timedelta. To silence this warning, set decode_timedelta to True, False, or a 'CFTimedeltaCoder' instance.\n",
      "  ifs_fc = xr.open_dataset(file).isel(step=0)\n"
     ]
    },
    {
     "data": {
      "application/vnd.jupyter.widget-view+json": {
       "model_id": "62da2b6ce10f41aabf25b90ee929ca42",
       "version_major": 2,
       "version_minor": 0
      },
      "text/plain": [
       "Lat ranges @ +096h:   0%|          | 0/1 [00:00<?, ?it/s]"
      ]
     },
     "metadata": {},
     "output_type": "display_data"
    },
    {
     "name": "stderr",
     "output_type": "stream",
     "text": [
      "/jobfs/147851250.gadi-pbs/ipykernel_1080883/179644666.py:14: FutureWarning: In a future version, xarray will not decode timedelta values based on the presence of a timedelta-like units attribute by default. Instead it will rely on the presence of a timedelta64 dtype attribute, which is now xarray's default way of encoding timedelta64 values. To continue decoding timedeltas based on the presence of a timedelta-like units attribute, users will need to explicitly opt-in by passing True or CFTimedeltaCoder(decode_via_units=True) to decode_timedelta. To silence this warning, set decode_timedelta to True, False, or a 'CFTimedeltaCoder' instance.\n",
      "  ifs_fc = xr.open_dataset(file).isel(step=0)\n"
     ]
    },
    {
     "data": {
      "application/vnd.jupyter.widget-view+json": {
       "model_id": "2329951e469e47b1ba19f30cff844426",
       "version_major": 2,
       "version_minor": 0
      },
      "text/plain": [
       "Lat ranges @ +102h:   0%|          | 0/1 [00:00<?, ?it/s]"
      ]
     },
     "metadata": {},
     "output_type": "display_data"
    },
    {
     "name": "stderr",
     "output_type": "stream",
     "text": [
      "/jobfs/147851250.gadi-pbs/ipykernel_1080883/179644666.py:14: FutureWarning: In a future version, xarray will not decode timedelta values based on the presence of a timedelta-like units attribute by default. Instead it will rely on the presence of a timedelta64 dtype attribute, which is now xarray's default way of encoding timedelta64 values. To continue decoding timedeltas based on the presence of a timedelta-like units attribute, users will need to explicitly opt-in by passing True or CFTimedeltaCoder(decode_via_units=True) to decode_timedelta. To silence this warning, set decode_timedelta to True, False, or a 'CFTimedeltaCoder' instance.\n",
      "  ifs_fc = xr.open_dataset(file).isel(step=0)\n"
     ]
    },
    {
     "data": {
      "application/vnd.jupyter.widget-view+json": {
       "model_id": "2f15aabf83f646d3af6fc1832dbeffa3",
       "version_major": 2,
       "version_minor": 0
      },
      "text/plain": [
       "Lat ranges @ +108h:   0%|          | 0/1 [00:00<?, ?it/s]"
      ]
     },
     "metadata": {},
     "output_type": "display_data"
    },
    {
     "name": "stderr",
     "output_type": "stream",
     "text": [
      "/jobfs/147851250.gadi-pbs/ipykernel_1080883/179644666.py:14: FutureWarning: In a future version, xarray will not decode timedelta values based on the presence of a timedelta-like units attribute by default. Instead it will rely on the presence of a timedelta64 dtype attribute, which is now xarray's default way of encoding timedelta64 values. To continue decoding timedeltas based on the presence of a timedelta-like units attribute, users will need to explicitly opt-in by passing True or CFTimedeltaCoder(decode_via_units=True) to decode_timedelta. To silence this warning, set decode_timedelta to True, False, or a 'CFTimedeltaCoder' instance.\n",
      "  ifs_fc = xr.open_dataset(file).isel(step=0)\n"
     ]
    },
    {
     "data": {
      "application/vnd.jupyter.widget-view+json": {
       "model_id": "cf8333a8ab2f4d19be7b1096f2f0168e",
       "version_major": 2,
       "version_minor": 0
      },
      "text/plain": [
       "Lat ranges @ +114h:   0%|          | 0/1 [00:00<?, ?it/s]"
      ]
     },
     "metadata": {},
     "output_type": "display_data"
    },
    {
     "name": "stderr",
     "output_type": "stream",
     "text": [
      "/jobfs/147851250.gadi-pbs/ipykernel_1080883/179644666.py:14: FutureWarning: In a future version, xarray will not decode timedelta values based on the presence of a timedelta-like units attribute by default. Instead it will rely on the presence of a timedelta64 dtype attribute, which is now xarray's default way of encoding timedelta64 values. To continue decoding timedeltas based on the presence of a timedelta-like units attribute, users will need to explicitly opt-in by passing True or CFTimedeltaCoder(decode_via_units=True) to decode_timedelta. To silence this warning, set decode_timedelta to True, False, or a 'CFTimedeltaCoder' instance.\n",
      "  ifs_fc = xr.open_dataset(file).isel(step=0)\n"
     ]
    },
    {
     "data": {
      "application/vnd.jupyter.widget-view+json": {
       "model_id": "53a6af1d3fd74ee3842e6fe5b07b21d7",
       "version_major": 2,
       "version_minor": 0
      },
      "text/plain": [
       "Lat ranges @ +120h:   0%|          | 0/1 [00:00<?, ?it/s]"
      ]
     },
     "metadata": {},
     "output_type": "display_data"
    },
    {
     "name": "stderr",
     "output_type": "stream",
     "text": [
      "/jobfs/147851250.gadi-pbs/ipykernel_1080883/179644666.py:14: FutureWarning: In a future version, xarray will not decode timedelta values based on the presence of a timedelta-like units attribute by default. Instead it will rely on the presence of a timedelta64 dtype attribute, which is now xarray's default way of encoding timedelta64 values. To continue decoding timedeltas based on the presence of a timedelta-like units attribute, users will need to explicitly opt-in by passing True or CFTimedeltaCoder(decode_via_units=True) to decode_timedelta. To silence this warning, set decode_timedelta to True, False, or a 'CFTimedeltaCoder' instance.\n",
      "  ifs_fc = xr.open_dataset(file).isel(step=0)\n"
     ]
    },
    {
     "data": {
      "application/vnd.jupyter.widget-view+json": {
       "model_id": "ca0c97debdc443c99245b6f2d0b038f8",
       "version_major": 2,
       "version_minor": 0
      },
      "text/plain": [
       "Lat ranges @ +126h:   0%|          | 0/1 [00:00<?, ?it/s]"
      ]
     },
     "metadata": {},
     "output_type": "display_data"
    },
    {
     "name": "stderr",
     "output_type": "stream",
     "text": [
      "/jobfs/147851250.gadi-pbs/ipykernel_1080883/179644666.py:14: FutureWarning: In a future version, xarray will not decode timedelta values based on the presence of a timedelta-like units attribute by default. Instead it will rely on the presence of a timedelta64 dtype attribute, which is now xarray's default way of encoding timedelta64 values. To continue decoding timedeltas based on the presence of a timedelta-like units attribute, users will need to explicitly opt-in by passing True or CFTimedeltaCoder(decode_via_units=True) to decode_timedelta. To silence this warning, set decode_timedelta to True, False, or a 'CFTimedeltaCoder' instance.\n",
      "  ifs_fc = xr.open_dataset(file).isel(step=0)\n"
     ]
    },
    {
     "data": {
      "application/vnd.jupyter.widget-view+json": {
       "model_id": "ba71bb5028f34f95bad17e32c476ef03",
       "version_major": 2,
       "version_minor": 0
      },
      "text/plain": [
       "Lat ranges @ +132h:   0%|          | 0/1 [00:00<?, ?it/s]"
      ]
     },
     "metadata": {},
     "output_type": "display_data"
    },
    {
     "name": "stderr",
     "output_type": "stream",
     "text": [
      "/jobfs/147851250.gadi-pbs/ipykernel_1080883/179644666.py:14: FutureWarning: In a future version, xarray will not decode timedelta values based on the presence of a timedelta-like units attribute by default. Instead it will rely on the presence of a timedelta64 dtype attribute, which is now xarray's default way of encoding timedelta64 values. To continue decoding timedeltas based on the presence of a timedelta-like units attribute, users will need to explicitly opt-in by passing True or CFTimedeltaCoder(decode_via_units=True) to decode_timedelta. To silence this warning, set decode_timedelta to True, False, or a 'CFTimedeltaCoder' instance.\n",
      "  ifs_fc = xr.open_dataset(file).isel(step=0)\n"
     ]
    },
    {
     "data": {
      "application/vnd.jupyter.widget-view+json": {
       "model_id": "5ab27325ba3d4dd9a2354b65f1c1557c",
       "version_major": 2,
       "version_minor": 0
      },
      "text/plain": [
       "Lat ranges @ +138h:   0%|          | 0/1 [00:00<?, ?it/s]"
      ]
     },
     "metadata": {},
     "output_type": "display_data"
    },
    {
     "name": "stderr",
     "output_type": "stream",
     "text": [
      "/jobfs/147851250.gadi-pbs/ipykernel_1080883/179644666.py:14: FutureWarning: In a future version, xarray will not decode timedelta values based on the presence of a timedelta-like units attribute by default. Instead it will rely on the presence of a timedelta64 dtype attribute, which is now xarray's default way of encoding timedelta64 values. To continue decoding timedeltas based on the presence of a timedelta-like units attribute, users will need to explicitly opt-in by passing True or CFTimedeltaCoder(decode_via_units=True) to decode_timedelta. To silence this warning, set decode_timedelta to True, False, or a 'CFTimedeltaCoder' instance.\n",
      "  ifs_fc = xr.open_dataset(file).isel(step=0)\n"
     ]
    },
    {
     "data": {
      "application/vnd.jupyter.widget-view+json": {
       "model_id": "e5cfa049d281455eadb5647343794813",
       "version_major": 2,
       "version_minor": 0
      },
      "text/plain": [
       "Lat ranges @ +144h:   0%|          | 0/1 [00:00<?, ?it/s]"
      ]
     },
     "metadata": {},
     "output_type": "display_data"
    },
    {
     "name": "stderr",
     "output_type": "stream",
     "text": [
      "/jobfs/147851250.gadi-pbs/ipykernel_1080883/179644666.py:14: FutureWarning: In a future version, xarray will not decode timedelta values based on the presence of a timedelta-like units attribute by default. Instead it will rely on the presence of a timedelta64 dtype attribute, which is now xarray's default way of encoding timedelta64 values. To continue decoding timedeltas based on the presence of a timedelta-like units attribute, users will need to explicitly opt-in by passing True or CFTimedeltaCoder(decode_via_units=True) to decode_timedelta. To silence this warning, set decode_timedelta to True, False, or a 'CFTimedeltaCoder' instance.\n",
      "  ifs_fc = xr.open_dataset(file).isel(step=0)\n"
     ]
    },
    {
     "data": {
      "application/vnd.jupyter.widget-view+json": {
       "model_id": "4cf7fc3f9c304157b0a467d712c918cd",
       "version_major": 2,
       "version_minor": 0
      },
      "text/plain": [
       "Lat ranges @ +150h:   0%|          | 0/1 [00:00<?, ?it/s]"
      ]
     },
     "metadata": {},
     "output_type": "display_data"
    },
    {
     "name": "stderr",
     "output_type": "stream",
     "text": [
      "/jobfs/147851250.gadi-pbs/ipykernel_1080883/179644666.py:14: FutureWarning: In a future version, xarray will not decode timedelta values based on the presence of a timedelta-like units attribute by default. Instead it will rely on the presence of a timedelta64 dtype attribute, which is now xarray's default way of encoding timedelta64 values. To continue decoding timedeltas based on the presence of a timedelta-like units attribute, users will need to explicitly opt-in by passing True or CFTimedeltaCoder(decode_via_units=True) to decode_timedelta. To silence this warning, set decode_timedelta to True, False, or a 'CFTimedeltaCoder' instance.\n",
      "  ifs_fc = xr.open_dataset(file).isel(step=0)\n"
     ]
    },
    {
     "data": {
      "application/vnd.jupyter.widget-view+json": {
       "model_id": "90541f76d44541279ac127a06394354d",
       "version_major": 2,
       "version_minor": 0
      },
      "text/plain": [
       "Lat ranges @ +156h:   0%|          | 0/1 [00:00<?, ?it/s]"
      ]
     },
     "metadata": {},
     "output_type": "display_data"
    },
    {
     "name": "stderr",
     "output_type": "stream",
     "text": [
      "/jobfs/147851250.gadi-pbs/ipykernel_1080883/179644666.py:14: FutureWarning: In a future version, xarray will not decode timedelta values based on the presence of a timedelta-like units attribute by default. Instead it will rely on the presence of a timedelta64 dtype attribute, which is now xarray's default way of encoding timedelta64 values. To continue decoding timedeltas based on the presence of a timedelta-like units attribute, users will need to explicitly opt-in by passing True or CFTimedeltaCoder(decode_via_units=True) to decode_timedelta. To silence this warning, set decode_timedelta to True, False, or a 'CFTimedeltaCoder' instance.\n",
      "  ifs_fc = xr.open_dataset(file).isel(step=0)\n"
     ]
    },
    {
     "data": {
      "application/vnd.jupyter.widget-view+json": {
       "model_id": "2270f183c4534baaa7a43c400c43ca68",
       "version_major": 2,
       "version_minor": 0
      },
      "text/plain": [
       "Lat ranges @ +162h:   0%|          | 0/1 [00:00<?, ?it/s]"
      ]
     },
     "metadata": {},
     "output_type": "display_data"
    },
    {
     "name": "stderr",
     "output_type": "stream",
     "text": [
      "/jobfs/147851250.gadi-pbs/ipykernel_1080883/179644666.py:14: FutureWarning: In a future version, xarray will not decode timedelta values based on the presence of a timedelta-like units attribute by default. Instead it will rely on the presence of a timedelta64 dtype attribute, which is now xarray's default way of encoding timedelta64 values. To continue decoding timedeltas based on the presence of a timedelta-like units attribute, users will need to explicitly opt-in by passing True or CFTimedeltaCoder(decode_via_units=True) to decode_timedelta. To silence this warning, set decode_timedelta to True, False, or a 'CFTimedeltaCoder' instance.\n",
      "  ifs_fc = xr.open_dataset(file).isel(step=0)\n"
     ]
    },
    {
     "data": {
      "application/vnd.jupyter.widget-view+json": {
       "model_id": "27c0f65b4e0145818975d5c9b14cd9c7",
       "version_major": 2,
       "version_minor": 0
      },
      "text/plain": [
       "Lat ranges @ +168h:   0%|          | 0/1 [00:00<?, ?it/s]"
      ]
     },
     "metadata": {},
     "output_type": "display_data"
    },
    {
     "name": "stderr",
     "output_type": "stream",
     "text": [
      "/jobfs/147851250.gadi-pbs/ipykernel_1080883/179644666.py:14: FutureWarning: In a future version, xarray will not decode timedelta values based on the presence of a timedelta-like units attribute by default. Instead it will rely on the presence of a timedelta64 dtype attribute, which is now xarray's default way of encoding timedelta64 values. To continue decoding timedeltas based on the presence of a timedelta-like units attribute, users will need to explicitly opt-in by passing True or CFTimedeltaCoder(decode_via_units=True) to decode_timedelta. To silence this warning, set decode_timedelta to True, False, or a 'CFTimedeltaCoder' instance.\n",
      "  ifs_fc = xr.open_dataset(file).isel(step=0)\n"
     ]
    },
    {
     "data": {
      "application/vnd.jupyter.widget-view+json": {
       "model_id": "6b02e4d4dc2847cba021a46e26c8e716",
       "version_major": 2,
       "version_minor": 0
      },
      "text/plain": [
       "Lat ranges @ +174h:   0%|          | 0/1 [00:00<?, ?it/s]"
      ]
     },
     "metadata": {},
     "output_type": "display_data"
    },
    {
     "name": "stderr",
     "output_type": "stream",
     "text": [
      "/jobfs/147851250.gadi-pbs/ipykernel_1080883/179644666.py:14: FutureWarning: In a future version, xarray will not decode timedelta values based on the presence of a timedelta-like units attribute by default. Instead it will rely on the presence of a timedelta64 dtype attribute, which is now xarray's default way of encoding timedelta64 values. To continue decoding timedeltas based on the presence of a timedelta-like units attribute, users will need to explicitly opt-in by passing True or CFTimedeltaCoder(decode_via_units=True) to decode_timedelta. To silence this warning, set decode_timedelta to True, False, or a 'CFTimedeltaCoder' instance.\n",
      "  ifs_fc = xr.open_dataset(file).isel(step=0)\n"
     ]
    },
    {
     "data": {
      "application/vnd.jupyter.widget-view+json": {
       "model_id": "1bb66460b46c476bb7e597a728809e63",
       "version_major": 2,
       "version_minor": 0
      },
      "text/plain": [
       "Lat ranges @ +180h:   0%|          | 0/1 [00:00<?, ?it/s]"
      ]
     },
     "metadata": {},
     "output_type": "display_data"
    },
    {
     "name": "stderr",
     "output_type": "stream",
     "text": [
      "/jobfs/147851250.gadi-pbs/ipykernel_1080883/179644666.py:14: FutureWarning: In a future version, xarray will not decode timedelta values based on the presence of a timedelta-like units attribute by default. Instead it will rely on the presence of a timedelta64 dtype attribute, which is now xarray's default way of encoding timedelta64 values. To continue decoding timedeltas based on the presence of a timedelta-like units attribute, users will need to explicitly opt-in by passing True or CFTimedeltaCoder(decode_via_units=True) to decode_timedelta. To silence this warning, set decode_timedelta to True, False, or a 'CFTimedeltaCoder' instance.\n",
      "  ifs_fc = xr.open_dataset(file).isel(step=0)\n"
     ]
    },
    {
     "data": {
      "application/vnd.jupyter.widget-view+json": {
       "model_id": "6fb7c5a8a9414aab88c2f5548ec50ed1",
       "version_major": 2,
       "version_minor": 0
      },
      "text/plain": [
       "Lat ranges @ +186h:   0%|          | 0/1 [00:00<?, ?it/s]"
      ]
     },
     "metadata": {},
     "output_type": "display_data"
    },
    {
     "name": "stderr",
     "output_type": "stream",
     "text": [
      "/jobfs/147851250.gadi-pbs/ipykernel_1080883/179644666.py:14: FutureWarning: In a future version, xarray will not decode timedelta values based on the presence of a timedelta-like units attribute by default. Instead it will rely on the presence of a timedelta64 dtype attribute, which is now xarray's default way of encoding timedelta64 values. To continue decoding timedeltas based on the presence of a timedelta-like units attribute, users will need to explicitly opt-in by passing True or CFTimedeltaCoder(decode_via_units=True) to decode_timedelta. To silence this warning, set decode_timedelta to True, False, or a 'CFTimedeltaCoder' instance.\n",
      "  ifs_fc = xr.open_dataset(file).isel(step=0)\n"
     ]
    },
    {
     "data": {
      "application/vnd.jupyter.widget-view+json": {
       "model_id": "7d504cf657df47faa41f23e362f4a779",
       "version_major": 2,
       "version_minor": 0
      },
      "text/plain": [
       "Lat ranges @ +192h:   0%|          | 0/1 [00:00<?, ?it/s]"
      ]
     },
     "metadata": {},
     "output_type": "display_data"
    },
    {
     "name": "stderr",
     "output_type": "stream",
     "text": [
      "/jobfs/147851250.gadi-pbs/ipykernel_1080883/179644666.py:14: FutureWarning: In a future version, xarray will not decode timedelta values based on the presence of a timedelta-like units attribute by default. Instead it will rely on the presence of a timedelta64 dtype attribute, which is now xarray's default way of encoding timedelta64 values. To continue decoding timedeltas based on the presence of a timedelta-like units attribute, users will need to explicitly opt-in by passing True or CFTimedeltaCoder(decode_via_units=True) to decode_timedelta. To silence this warning, set decode_timedelta to True, False, or a 'CFTimedeltaCoder' instance.\n",
      "  ifs_fc = xr.open_dataset(file).isel(step=0)\n"
     ]
    },
    {
     "data": {
      "application/vnd.jupyter.widget-view+json": {
       "model_id": "b11683eb95f24afda350816ad1dd842f",
       "version_major": 2,
       "version_minor": 0
      },
      "text/plain": [
       "Lat ranges @ +198h:   0%|          | 0/1 [00:00<?, ?it/s]"
      ]
     },
     "metadata": {},
     "output_type": "display_data"
    },
    {
     "name": "stderr",
     "output_type": "stream",
     "text": [
      "/jobfs/147851250.gadi-pbs/ipykernel_1080883/179644666.py:14: FutureWarning: In a future version, xarray will not decode timedelta values based on the presence of a timedelta-like units attribute by default. Instead it will rely on the presence of a timedelta64 dtype attribute, which is now xarray's default way of encoding timedelta64 values. To continue decoding timedeltas based on the presence of a timedelta-like units attribute, users will need to explicitly opt-in by passing True or CFTimedeltaCoder(decode_via_units=True) to decode_timedelta. To silence this warning, set decode_timedelta to True, False, or a 'CFTimedeltaCoder' instance.\n",
      "  ifs_fc = xr.open_dataset(file).isel(step=0)\n"
     ]
    },
    {
     "data": {
      "application/vnd.jupyter.widget-view+json": {
       "model_id": "47dd43ff7f344c78a6e685fdc3f17cd2",
       "version_major": 2,
       "version_minor": 0
      },
      "text/plain": [
       "Lat ranges @ +204h:   0%|          | 0/1 [00:00<?, ?it/s]"
      ]
     },
     "metadata": {},
     "output_type": "display_data"
    },
    {
     "name": "stderr",
     "output_type": "stream",
     "text": [
      "/jobfs/147851250.gadi-pbs/ipykernel_1080883/179644666.py:14: FutureWarning: In a future version, xarray will not decode timedelta values based on the presence of a timedelta-like units attribute by default. Instead it will rely on the presence of a timedelta64 dtype attribute, which is now xarray's default way of encoding timedelta64 values. To continue decoding timedeltas based on the presence of a timedelta-like units attribute, users will need to explicitly opt-in by passing True or CFTimedeltaCoder(decode_via_units=True) to decode_timedelta. To silence this warning, set decode_timedelta to True, False, or a 'CFTimedeltaCoder' instance.\n",
      "  ifs_fc = xr.open_dataset(file).isel(step=0)\n"
     ]
    },
    {
     "data": {
      "application/vnd.jupyter.widget-view+json": {
       "model_id": "ce196eb582694721b6dc7f3803477133",
       "version_major": 2,
       "version_minor": 0
      },
      "text/plain": [
       "Lat ranges @ +210h:   0%|          | 0/1 [00:00<?, ?it/s]"
      ]
     },
     "metadata": {},
     "output_type": "display_data"
    },
    {
     "name": "stderr",
     "output_type": "stream",
     "text": [
      "/jobfs/147851250.gadi-pbs/ipykernel_1080883/179644666.py:14: FutureWarning: In a future version, xarray will not decode timedelta values based on the presence of a timedelta-like units attribute by default. Instead it will rely on the presence of a timedelta64 dtype attribute, which is now xarray's default way of encoding timedelta64 values. To continue decoding timedeltas based on the presence of a timedelta-like units attribute, users will need to explicitly opt-in by passing True or CFTimedeltaCoder(decode_via_units=True) to decode_timedelta. To silence this warning, set decode_timedelta to True, False, or a 'CFTimedeltaCoder' instance.\n",
      "  ifs_fc = xr.open_dataset(file).isel(step=0)\n"
     ]
    },
    {
     "data": {
      "application/vnd.jupyter.widget-view+json": {
       "model_id": "7b41be38c09f44a794d0f92d9e250e8c",
       "version_major": 2,
       "version_minor": 0
      },
      "text/plain": [
       "Lat ranges @ +216h:   0%|          | 0/1 [00:00<?, ?it/s]"
      ]
     },
     "metadata": {},
     "output_type": "display_data"
    },
    {
     "name": "stderr",
     "output_type": "stream",
     "text": [
      "/jobfs/147851250.gadi-pbs/ipykernel_1080883/179644666.py:14: FutureWarning: In a future version, xarray will not decode timedelta values based on the presence of a timedelta-like units attribute by default. Instead it will rely on the presence of a timedelta64 dtype attribute, which is now xarray's default way of encoding timedelta64 values. To continue decoding timedeltas based on the presence of a timedelta-like units attribute, users will need to explicitly opt-in by passing True or CFTimedeltaCoder(decode_via_units=True) to decode_timedelta. To silence this warning, set decode_timedelta to True, False, or a 'CFTimedeltaCoder' instance.\n",
      "  ifs_fc = xr.open_dataset(file).isel(step=0)\n"
     ]
    },
    {
     "data": {
      "application/vnd.jupyter.widget-view+json": {
       "model_id": "1fc41f3cc2a342549cca77717e802e53",
       "version_major": 2,
       "version_minor": 0
      },
      "text/plain": [
       "Lat ranges @ +222h:   0%|          | 0/1 [00:00<?, ?it/s]"
      ]
     },
     "metadata": {},
     "output_type": "display_data"
    },
    {
     "name": "stderr",
     "output_type": "stream",
     "text": [
      "/jobfs/147851250.gadi-pbs/ipykernel_1080883/179644666.py:14: FutureWarning: In a future version, xarray will not decode timedelta values based on the presence of a timedelta-like units attribute by default. Instead it will rely on the presence of a timedelta64 dtype attribute, which is now xarray's default way of encoding timedelta64 values. To continue decoding timedeltas based on the presence of a timedelta-like units attribute, users will need to explicitly opt-in by passing True or CFTimedeltaCoder(decode_via_units=True) to decode_timedelta. To silence this warning, set decode_timedelta to True, False, or a 'CFTimedeltaCoder' instance.\n",
      "  ifs_fc = xr.open_dataset(file).isel(step=0)\n"
     ]
    },
    {
     "data": {
      "application/vnd.jupyter.widget-view+json": {
       "model_id": "fa3235f905464d5f929f7cd2e0ae9d01",
       "version_major": 2,
       "version_minor": 0
      },
      "text/plain": [
       "Lat ranges @ +228h:   0%|          | 0/1 [00:00<?, ?it/s]"
      ]
     },
     "metadata": {},
     "output_type": "display_data"
    },
    {
     "name": "stderr",
     "output_type": "stream",
     "text": [
      "/jobfs/147851250.gadi-pbs/ipykernel_1080883/179644666.py:14: FutureWarning: In a future version, xarray will not decode timedelta values based on the presence of a timedelta-like units attribute by default. Instead it will rely on the presence of a timedelta64 dtype attribute, which is now xarray's default way of encoding timedelta64 values. To continue decoding timedeltas based on the presence of a timedelta-like units attribute, users will need to explicitly opt-in by passing True or CFTimedeltaCoder(decode_via_units=True) to decode_timedelta. To silence this warning, set decode_timedelta to True, False, or a 'CFTimedeltaCoder' instance.\n",
      "  ifs_fc = xr.open_dataset(file).isel(step=0)\n"
     ]
    },
    {
     "data": {
      "application/vnd.jupyter.widget-view+json": {
       "model_id": "b27edb5f9f5e4b97b7dd14c2a7fb1a3c",
       "version_major": 2,
       "version_minor": 0
      },
      "text/plain": [
       "Lat ranges @ +234h:   0%|          | 0/1 [00:00<?, ?it/s]"
      ]
     },
     "metadata": {},
     "output_type": "display_data"
    },
    {
     "name": "stderr",
     "output_type": "stream",
     "text": [
      "/jobfs/147851250.gadi-pbs/ipykernel_1080883/179644666.py:14: FutureWarning: In a future version, xarray will not decode timedelta values based on the presence of a timedelta-like units attribute by default. Instead it will rely on the presence of a timedelta64 dtype attribute, which is now xarray's default way of encoding timedelta64 values. To continue decoding timedeltas based on the presence of a timedelta-like units attribute, users will need to explicitly opt-in by passing True or CFTimedeltaCoder(decode_via_units=True) to decode_timedelta. To silence this warning, set decode_timedelta to True, False, or a 'CFTimedeltaCoder' instance.\n",
      "  ifs_fc = xr.open_dataset(file).isel(step=0)\n"
     ]
    },
    {
     "data": {
      "application/vnd.jupyter.widget-view+json": {
       "model_id": "9da85382f1d74525b780d36b80c2ffc9",
       "version_major": 2,
       "version_minor": 0
      },
      "text/plain": [
       "Lat ranges @ +240h:   0%|          | 0/1 [00:00<?, ?it/s]"
      ]
     },
     "metadata": {},
     "output_type": "display_data"
    },
    {
     "name": "stderr",
     "output_type": "stream",
     "text": [
      "/jobfs/147851250.gadi-pbs/ipykernel_1080883/179644666.py:14: FutureWarning: In a future version, xarray will not decode timedelta values based on the presence of a timedelta-like units attribute by default. Instead it will rely on the presence of a timedelta64 dtype attribute, which is now xarray's default way of encoding timedelta64 values. To continue decoding timedeltas based on the presence of a timedelta-like units attribute, users will need to explicitly opt-in by passing True or CFTimedeltaCoder(decode_via_units=True) to decode_timedelta. To silence this warning, set decode_timedelta to True, False, or a 'CFTimedeltaCoder' instance.\n",
      "  ifs_fc = xr.open_dataset(file).isel(step=0)\n"
     ]
    }
   ],
   "source": [
    "for i, lead_time in enumerate(tqdm(lead_times, desc=\"Lead times\")):\n",
    "    for erange in tqdm(ranges, desc=f\"Lat ranges @ +{lead_time:03d}h\", leave=False):\n",
    "\n",
    "        # load AIFS file\n",
    "        file = files_aifs[i] # using i as files are sorted by lead time\n",
    "        ds = xr.open_dataset(file)\n",
    "\n",
    "        # load AIFS ens file\n",
    "        file = files_aifs_ens[i] # using i as files are sorted by lead time\n",
    "        aifs_ens = xr.open_dataset(file)\n",
    "\n",
    "        # load IFS_fc files\n",
    "        file = files_ifs_fc[i] # using i as files are sorted by lead time\n",
    "        ifs_fc = xr.open_dataset(file).isel(step=0)\n",
    "        ifs_fc = ifs_fc.drop_vars([\"number\", \"step\"]) # no time to redo it in the code that makes the files, cf IFS analysis file save, but why is isel(step=0) still required? necessary but don't understand\n",
    "\n",
    "        # select the given range of latitudes\n",
    "        ds_lat = ds.sel(latitude=erange)\n",
    "        e5_lat = e5.sel(latitude=erange)\n",
    "        ifs_lat = ifs.sel(latitude=erange)\n",
    "        ifs_fc_lat = ifs_fc.sel(latitude=erange)\n",
    "        aifs_ens_lat = aifs_ens.sel(latitude=erange)\n",
    "\n",
    "        # perform a weighted mean on latitudes\n",
    "        weights = np.cos(np.deg2rad(e5_lat[\"latitude\"]))\n",
    "        weights.name = \"weights\"\n",
    "\n",
    "        ds_lat = ds_lat.weighted(weights).mean(dim=\"latitude\")\n",
    "        e5_lat = e5_lat.weighted(weights).mean(dim=\"latitude\")\n",
    "        ifs_lat = ifs_lat.weighted(weights).mean(dim=\"latitude\")\n",
    "        ifs_fc_lat = ifs_fc_lat.weighted(weights).mean(dim=\"latitude\")\n",
    "        aifs_ens_lat = aifs_ens_lat.weighted(weights).mean(dim=\"latitude\")\n",
    "\n",
    "        # select spectral density for each model\n",
    "        energy = ds_lat.__xarray_dataarray_variable__\n",
    "        e5_energy = e5_lat.__xarray_dataarray_variable__\n",
    "        ifs_energy = ifs_lat.__xarray_dataarray_variable__\n",
    "        ifs_fc_energy = ifs_fc_lat.__xarray_dataarray_variable__\n",
    "        aifs_ens_energy = aifs_ens_lat.__xarray_dataarray_variable__\n",
    "\n",
    "        # select wavenumbers (they are probably the same)\n",
    "        wn = ds_lat.zonal_wavenumber\n",
    "        e5_wn = e5_lat.zonal_wavenumber\n",
    "        ifs_wn = ifs_lat.zonal_wavenumber\n",
    "        ifs_fc_wn = ifs_fc_lat.zonal_wavenumber\n",
    "        aifs_ens_wn = aifs_ens_lat.zonal_wavenumber\n",
    "\n",
    "        plt.figure(figsize=(6, 4))  # Create the figure once, outside the loop\n",
    "        # theory curves\n",
    "        #theo_start = scaled_power_law(wn[1:], wn[1], e5_energy[1], -5/3)\n",
    "        theo_end = scaled_power_law(wn[1:], 100, 1e10, -3)\n",
    "        #plt.loglog(wn[1:], theo_start, linewidth=1, color=\"black\", linestyle='-.', label=f'low frequency scaled power law (-5/3)')\n",
    "        plt.loglog(wn[1:], theo_end, linewidth=1, color=\"black\", label=f'high frequency scaled power law (-3)')\n",
    "\n",
    "\n",
    "        #print(ifs_fc_wn)\n",
    "        #print(ifs_fc_energy.isel(step=0))\n",
    "        # plot spectral densities\n",
    "        plt.loglog(wn[1:], energy[1:], linewidth=2, label=f'AIFS +{lead_time:03d}h')\n",
    "        plt.loglog(aifs_ens_wn[1:], aifs_ens_energy[1:], label=f'AIFS ENS central member +{lead_time:03d}h', linewidth=2)\n",
    "        plt.loglog(ifs_wn[1:], ifs_energy[1:], label=f'IFS analysis', linewidth=2)\n",
    "        plt.loglog(ifs_fc_wn[1:], ifs_fc_energy[1:], label=f'IFS forecast +{lead_time:03d}h', linewidth=2)\n",
    "        plt.loglog(e5_wn[1:], e5_energy[1:], label=f'ERA5', linewidth=2)\n",
    "\n",
    "        # Axis scale\n",
    "        ax = plt.gca()\n",
    "        ax.set_xscale('log')\n",
    "        ax.set_xlim(left=1)\n",
    "        ax.set_yscale('log')\n",
    "        ax.set_ylim(1, 5e13)\n",
    "\n",
    "        # Finding unresolved scales\n",
    "        # dx = 0.25 * (np.pi/180) * 6371e3 * np.cos(np.deg2rad(lat))\n",
    "        # lambda_min = mult * dx # (mult must be at least 2 (2*dx limit))\n",
    "        # circumference = 2 * np.pi * 6371e3 * np.cos(np.deg2rad(lat))\n",
    "        # m_max = circumference / lambda_min\n",
    "        mult = 4\n",
    "        m_max = 360 / (mult * 0.25)\n",
    "        ax.axvspan(m_max, ax.get_xlim()[1], color='red', alpha=0.1,\n",
    "                   label=f'Non-resolved scales (< {mult}*dx)')\n",
    "\n",
    "        # plot rossby deformation wavenumber\n",
    "        # x = (erange.start + erange.stop) / 2 # mean latitude of current range\n",
    "        # def_ross = def_rossby(x)\n",
    "        # ax.axvline(x=def_ross, linestyle='--', linewidth=1.5, label=f'Rossby deformation wavenumber at {int(x)}°')\n",
    "\n",
    "        # Gridlines on all ticks\n",
    "        ax.grid(True, which='both')\n",
    "\n",
    "        # Labels and legend\n",
    "        plt.xlabel('Zonal wavenumber', fontsize=12)\n",
    "        plt.ylabel('Power spectral density', fontsize=12)\n",
    "        lat_txt = f\"{int(erange.start):+03d}° to {int(erange.stop):+03d}°\"\n",
    "        plt.title(f'Zonal Energy Spectrums at {level}hPa (+{lead_time:03d}h) from {lat_txt}', fontsize=13)\n",
    "        plt.legend(fontsize=8,labelspacing=0.3, loc='lower left')\n",
    "        plt.tight_layout()\n",
    "\n",
    "        # save\n",
    "        os.makedirs(f\"/scratch/dx2/cl6824/plots/lat_lead_spectra/{lead_time:03d}\", exist_ok=True)\n",
    "        plt.savefig(f\"/scratch/dx2/cl6824/plots/lat_lead_spectra/{lead_time:03d}/range_{int(erange.start):+03d}_{int(erange.stop):+03d}_{level}hPa.png\")\n",
    "        plt.close()"
   ]
  },
  {
   "cell_type": "code",
   "execution_count": 23,
   "id": "aed1a4a1-13f5-4ddb-93e1-ef86b6f3ec26",
   "metadata": {},
   "outputs": [
    {
     "data": {
      "application/vnd.jupyter.widget-view+json": {
       "model_id": "870ac87eb24848cbb07116787d5c02d1",
       "version_major": 2,
       "version_minor": 0
      },
      "text/plain": [
       "  0%|          | 0/1 [00:00<?, ?it/s]"
      ]
     },
     "metadata": {},
     "output_type": "display_data"
    }
   ],
   "source": [
    "# evolution with lead time\n",
    "import glob\n",
    "import imageio.v3 as iio   # ImageIO v3 API\n",
    "\n",
    "for erange in tqdm(ranges):\n",
    "    lead_times = [efile for efile in sorted(os.listdir(\"/scratch/dx2/cl6824/plots/lat_lead_spectra\")) if not efile.startswith((\".\", \"_\"))]\n",
    "    files = [os.path.join(\"/scratch/dx2/cl6824/plots/lat_lead_spectra\", lead_time, f\"range_{int(erange.start):+03d}_{int(erange.stop):+03d}_{level}hPa.png\") for lead_time in lead_times]\n",
    "    # Read them into memory\n",
    "    frames = [iio.imread(f) for f in files]\n",
    "\n",
    "    # Write the GIF\n",
    "    # duration = seconds per frame  (0.1 s = 10 fps)\n",
    "    # loop=0 means loop forever; use loop=1 for no looping\n",
    "    iio.imwrite(f\"/scratch/dx2/cl6824/plots/lat_lead_spectra/_gifs/lat/AIFS_zonal_energy_spectrum_anim_lats_{int(erange.start):+03d}_{int(erange.stop):+03d}_{level}hPa.gif\", frames, duration=0.3, loop=0)\n"
   ]
  },
  {
   "cell_type": "markdown",
   "id": "f9e17bd4-7730-4176-9092-d5b1a80e7f7f",
   "metadata": {
    "jp-MarkdownHeadingCollapsed": true
   },
   "source": [
    "### IFS DOWNLOAD"
   ]
  },
  {
   "cell_type": "code",
   "execution_count": null,
   "id": "44d853e4-f6f6-42cb-b473-6bc9b4e3ae6c",
   "metadata": {},
   "outputs": [
    {
     "name": "stdout",
     "output_type": "stream",
     "text": [
      "['20240203', '20240206', '20240209', '20240212', '20240215', '20240218', '20240221', '20240224', '20240227']\n",
      "2025-08-22 14:53:32 ECMWF API python library 1.6.5\n",
      "2025-08-22 14:53:32 ECMWF API at https://api.ecmwf.int/v1\n",
      "2025-08-22 14:53:34 Welcome Spc BOM\n",
      "2025-08-22 14:53:37 In case of problems, please check https://confluence.ecmwf.int/display/WEBAPI/Web+API+FAQ or contact servicedesk@ecmwf.int\n",
      "2025-08-22 14:53:38 Request submitted\n",
      "2025-08-22 14:53:38 Request id: 68a7f7d20e6c376458679b7d\n",
      "2025-08-22 14:53:38 Request is submitted\n"
     ]
    }
   ],
   "source": [
    "#!/usr/bin/env python3\n",
    "# coding: utf-8\n",
    "\n",
    "import os\n",
    "from ecmwf.opendata import Client\n",
    "from ecmwfapi import ECMWFService\n",
    "\n",
    "\n",
    "def ifs_an_request_aifs(date):\n",
    "    t_dict = dict(\n",
    "        date=date,\n",
    "    )\n",
    "    # Base dict has to be this format because using 'class' as a kwarg causes a syntax error\n",
    "    # base_dict = {\n",
    "    #     'class': 'od', 'domain': 'g',\n",
    "    #     'expver': '0001', 'step': 0,\n",
    "    #     'stream': 'oper', 'type': 'an',\n",
    "    #     'grid': 'N320', 'area': '90/0.0/-90/360',\n",
    "    # }\n",
    "    # analysis\n",
    "    base_dict = {\n",
    "        'class': 'od', 'domain': 'g',\n",
    "        'expver': '0001', 'step': 0,\n",
    "        'stream': 'oper', 'type': 'an',\n",
    "        'grid': '0.25/0.25', 'area': '90/0.0/-90/360',\n",
    "    }\n",
    "    #forecast\n",
    "    base_dict = {\n",
    "        'class': 'od', 'domain': 'g',\n",
    "        'expver': '0001', 'step': \"6/to/240/by/6\",\n",
    "        'stream': 'oper', 'type': 'fc',\n",
    "        'grid': '0.25/0.25', 'area': '90/0.0/-90/360',\n",
    "    }\n",
    "    #sfc_request = dict(\n",
    "    #    levtype='sfc',\n",
    "    #    param='10u/10v/2d/2t/lsm/msl/sdor/skt/slor/sp/tcw/z', \n",
    "    #)\n",
    "    pl_request = dict(\n",
    "        levtype='pl',\n",
    "        levelist=\"200/500\",\n",
    "        param=\"u/v/w\",\n",
    "    )\n",
    "    #sl_request = dict(\n",
    "    #    levtype='sfc',\n",
    "    #    param=\"stl1/stl2/swvl1/swvl2\",\n",
    "    #)\n",
    "\n",
    "    requests = {\n",
    "        #'sfc_request': {**sfc_request, **t_dict, **base_dict},\n",
    "        'pl_request': {**pl_request, **t_dict, **base_dict},\n",
    "        #'sl_request': {**sl_request, **t_dict, **base_dict},\n",
    "    }\n",
    "    for r in requests:\n",
    "        requests[r] = ['{}={}'.format(k, v) for k, v in requests[r].items()]\n",
    "        requests[r] = 'retrieve,\\n{}'.format(','.join(requests[r]))\n",
    "    combined_request = [requests[r] for r in requests]\n",
    "    combined_request = '\\n\\n'.join(combined_request)\n",
    "\n",
    "    return combined_request\n",
    "\n",
    "# durations = [31, 29, 31, 30, 31, 30, 31, 31, 30, 31, 30, 31] # number of days per month\n",
    "# for month in range(1, 12):\n",
    "    \n",
    "dates = [(datetime.strptime('20240101', '%Y%m%d') + timedelta(days=x*3)).strftime('%Y%m%d') for x in range(122)]\n",
    "months = {}\n",
    "for month in range(1, 13):\n",
    "    months[month] = []\n",
    "\n",
    "for d in dates:\n",
    "    month = int(d[4:6])\n",
    "    months[month].append(d)\n",
    "\n",
    "for month, days in months.items():\n",
    "    if month != 1:\n",
    "        print(months[month])\n",
    "        date = \"/\".join(days)\n",
    "        CACHE_DIR='/g/data/dx2/ML/AIFS/resources'\n",
    "        os.environ['ECMWF_API_RC_FILE'] = os.path.join(CACHE_DIR, 'ecmwfapirc')\n",
    "        request = ifs_an_request_aifs(date)\n",
    "        output_file = f\"/g/data/dx2/cl6824/ML/IFS_FC/ifs_wind_2024{month:02d}.grib\"\n",
    "        # output_file = f\"/g/data/dx2/cl6824/ML/IFS_FC/ifs_wind_2024{month:.02d}.grib\"\n",
    "        server = ECMWFService(\"mars\")\n",
    "        server.execute(request, output_file)\n",
    "# for edate in dates:\n",
    "# # print(dates)\n",
    "# # date = f\"2024-{month:02d}-01/to/2024-{month:02d}-{durations[month-1]}\"\n",
    "# # print(date)\n",
    "# # This is where the API key for MARS is stored\n",
    "#     CACHE_DIR='/g/data/dx2/ML/AIFS/resources'\n",
    "#     os.environ['ECMWF_API_RC_FILE'] = os.path.join(CACHE_DIR, 'ecmwfapirc')\n",
    "\n",
    "#     request = ifs_an_request_aifs(edate)\n",
    "\n",
    "#     # output_file = f\"/g/data/dx2/cl6824/ML/IFS_FC/ifs_wind_2024_{month:02d}.grib\"\n",
    "#     output_file = f\"/g/data/dx2/cl6824/ML/IFS_FC/ifs_wind_{edate}.grib\"\n",
    "#     server = ECMWFService(\"mars\")\n",
    "#     server.execute(request, output_file)\n",
    "\n",
    "\n",
    "\n",
    "print('Done.')\n"
   ]
  },
  {
   "cell_type": "markdown",
   "id": "2c62543c-7eec-49c3-966c-c7da0c4a4cdc",
   "metadata": {
    "jp-MarkdownHeadingCollapsed": true
   },
   "source": [
    "### TESTS"
   ]
  },
  {
   "cell_type": "code",
   "execution_count": 20,
   "id": "886fbee3-f364-4fe5-84cb-ffae318ba3f6",
   "metadata": {},
   "outputs": [],
   "source": [
    "\n",
    "# # load AIFS file\n",
    "# file = files_aifs[i] # using i as files are sorted by lead time\n",
    "# ds = xr.open_dataset(file)\n",
    "\n",
    "# # load AIFS ens file\n",
    "# file = files_aifs_ens[i] # using i as files are sorted by lead time\n",
    "# aifs_ens = xr.open_dataset(file)\n",
    "\n",
    "# # load IFS_fc files\n",
    "# file = files_ifs_fc[i] # using i as files are sorted by lead time\n",
    "# ifs_fc = xr.open_dataset(file).isel(step=0)\n",
    "# ifs_fc = ifs_fc.drop_vars([\"number\", \"step\"]) # no time to redo it in the code that makes the files, cf IFS analysis file save, but why is isel(step=0) still required? necessary but don't understand\n",
    "erange = slice(-30, -60)\n",
    "\n",
    "# select the given range of latitudes\n",
    "# ds_lat = ds.sel(latitude=erange)\n",
    "e5_lat = e5.sel(latitude=erange)\n",
    "# ifs_lat = ifs.sel(latitude=erange)\n",
    "# ifs_fc_lat = ifs_fc.sel(latitude=erange)\n",
    "# aifs_ens_lat = aifs_ens.sel(latitude=erange)\n",
    "# perform a weighted mean on latitudes\n",
    "weights = np.cos(np.deg2rad(e5_lat[\"latitude\"]))\n",
    "weights.name = \"weights\"\n",
    "\n",
    "# ds_lat = ds_lat.weighted(weights).mean(dim=\"latitude\")\n",
    "e5_lat = e5_lat.weighted(weights).mean(dim=\"latitude\")\n",
    "# ifs_lat = ifs_lat.weighted(weights).mean(dim=\"latitude\")\n",
    "# ifs_fc_lat = ifs_fc_lat.weighted(weights).mean(dim=\"latitude\")\n",
    "# aifs_ens_lat = aifs_ens_lat.weighted(weights).mean(dim=\"latitude\")\n",
    "\n",
    "# select spectral density for each model\n",
    "# energy = ds_lat.__xarray_dataarray_variable__\n",
    "e5_energy = e5_lat.__xarray_dataarray_variable__\n",
    "# ifs_energy = ifs_lat.__xarray_dataarray_variable__\n",
    "# ifs_fc_energy = ifs_fc_lat.__xarray_dataarray_variable__\n",
    "# aifs_ens_energy = aifs_ens_lat.__xarray_dataarray_variable__\n",
    "\n",
    "# select wavenumbers (they are probably the same)\n",
    "# wn = ds_lat.zonal_wavenumber\n",
    "e5_wn = e5_lat.zonal_wavenumber\n",
    "# ifs_wn = ifs_lat.zonal_wavenumber\n",
    "# ifs_fc_wn = ifs_fc_lat.zonal_wavenumber\n",
    "# aifs_ens_wn = aifs_ens_lat.zonal_wavenumber\n",
    "\n",
    "plt.figure(figsize=(6, 4))  # Create the figure once, outside the loop\n",
    "# theory curves\n",
    "#theo_start = scaled_power_law(wn[1:], wn[1], e5_energy[1], -5/3)\n",
    "theo_end = scaled_power_law(e5_wn[1:], 100, 1e10, -3)\n",
    "#plt.loglog(wn[1:], theo_start, linewidth=1, color=\"black\", linestyle='-.', label=f'low frequency scaled power law (-5/3)')\n",
    "plt.loglog(e5_wn[1:], theo_end, linewidth=1, color=\"black\", label=f'high frequency scaled power law (-3)')\n",
    "\n",
    "\n",
    "#print(ifs_fc_wn)\n",
    "#print(ifs_fc_energy.isel(step=0))\n",
    "# plot spectral densities\n",
    "# plt.loglog(wn[1:], energy[1:], linewidth=2, label=f'AIFS +{lead_time:03d}h')\n",
    "# plt.loglog(aifs_ens_wn[1:], aifs_ens_energy[1:], label=f'AIFS ENS central member +{lead_time:03d}h', linewidth=2)\n",
    "# plt.loglog(ifs_wn[1:], ifs_energy[1:], label=f'IFS analysis', linewidth=2)\n",
    "# plt.loglog(ifs_fc_wn[1:], ifs_fc_energy[1:], label=f'IFS forecast +{lead_time:03d}h', linewidth=2)\n",
    "plt.loglog(e5_wn[1:], e5_energy[1:], label=\"era5\", linewidth=2)\n",
    "# Axis scale\n",
    "ax = plt.gca()\n",
    "ax.set_xscale('log')\n",
    "ax.set_xlim(left=1)\n",
    "ax.set_yscale('log')\n",
    "ax.set_ylim(1, 5e13)\n",
    "\n",
    "# Finding unresolved scales\n",
    "# dx = 0.25 * (np.pi/180) * 6371e3 * np.cos(np.deg2rad(lat))\n",
    "# lambda_min = mult * dx # (mult must be at least 2 (2*dx limit))\n",
    "# circumference = 2 * np.pi * 6371e3 * np.cos(np.deg2rad(lat))\n",
    "# m_max = circumference / lambda_min\n",
    "# mult = 4\n",
    "# m_max = 360 / (mult * 0.25)\n",
    "# ax.axvspan(m_max, ax.get_xlim()[1], color='red', alpha=0.1,\n",
    "#            label=f'Non-resolved scales (< {mult}*dx)')\n",
    "\n",
    "# plot rossby deformation wavenumber\n",
    "# x = (erange.start + erange.stop) / 2 # mean latitude of current range\n",
    "# def_ross = def_rossby(x)\n",
    "# ax.axvline(x=def_ross, linestyle='--', linewidth=1.5, label=f'Rossby deformation wavenumber at {int(x)}°')\n",
    "\n",
    "# Gridlines on all ticks\n",
    "ax.grid(True, which='both')\n",
    "\n",
    "# Labels and legend\n",
    "plt.xlabel('Zonal wavenumber', fontsize=12)\n",
    "plt.ylabel('Power spectral density', fontsize=12)\n",
    "lat_txt = f\"{int(erange.start):+03d}° to {int(erange.stop):+03d}°\"\n",
    "plt.title(f'Zonal Energy Spectrums at {level}hPa', fontsize=13)\n",
    "plt.legend(fontsize=8,labelspacing=0.3, loc='lower left')\n",
    "plt.tight_layout()\n",
    "\n",
    "# save\n",
    "plt.savefig(f\"/scratch/dx2/cl6824/plots/tmp/range_{int(erange.start):+03d}_{int(erange.stop):+03d}_{level}hPa.png\")\n",
    "plt.close()"
   ]
  },
  {
   "cell_type": "code",
   "execution_count": null,
   "id": "578bea54-8871-4400-b0ee-75bf9399141d",
   "metadata": {},
   "outputs": [],
   "source": []
  }
 ],
 "metadata": {
  "kernelspec": {
   "display_name": "Python [conda env:analysis3]",
   "language": "python",
   "name": "conda-env-analysis3-py"
  },
  "language_info": {
   "codemirror_mode": {
    "name": "ipython",
    "version": 3
   },
   "file_extension": ".py",
   "mimetype": "text/x-python",
   "name": "python",
   "nbconvert_exporter": "python",
   "pygments_lexer": "ipython3",
   "version": "3.11.13"
  }
 },
 "nbformat": 4,
 "nbformat_minor": 5
}
